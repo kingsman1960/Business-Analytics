{
 "cells": [
  {
   "cell_type": "markdown",
   "metadata": {},
   "source": [
    "# Basic knowledge"
   ]
  },
  {
   "cell_type": "markdown",
   "metadata": {},
   "source": [
    "# Numpy"
   ]
  },
  {
   "cell_type": "markdown",
   "metadata": {},
   "source": [
    "NumPy’s main object is the homogeneous multidimensional array. It is a table of elements (usually numbers), all of the same type, indexed by a tuple of non-negative integers. In NumPy dimensions are called axes.\n",
    "\n",
    "For example, the coordinates of a point in 3D space $[1, 2, 1]$ has one axis. That axis has 3 elements in it, so we say it has a length of 3. In the example pictured below, the array has 2 axes. The first axis has a length of 2, the second axis has a length of 3."
   ]
  },
  {
   "cell_type": "code",
   "execution_count": 1,
   "metadata": {},
   "outputs": [],
   "source": [
    "import numpy as np"
   ]
  },
  {
   "cell_type": "code",
   "execution_count": 2,
   "metadata": {},
   "outputs": [],
   "source": [
    "a = np.array([[ 1., 0., 0.],\n",
    "              [ 0., 1., 2.]])"
   ]
  },
  {
   "cell_type": "markdown",
   "metadata": {},
   "source": [
    "NumPy’s array class is called ndarray. It is also known by the alias array. "
   ]
  },
  {
   "cell_type": "code",
   "execution_count": 3,
   "metadata": {},
   "outputs": [
    {
     "data": {
      "text/plain": [
       "2"
      ]
     },
     "execution_count": 3,
     "metadata": {},
     "output_type": "execute_result"
    }
   ],
   "source": [
    "# the number of axes (dimensions) of the array\n",
    "a.ndim"
   ]
  },
  {
   "cell_type": "code",
   "execution_count": 4,
   "metadata": {},
   "outputs": [
    {
     "data": {
      "text/plain": [
       "(2, 3)"
      ]
     },
     "execution_count": 4,
     "metadata": {},
     "output_type": "execute_result"
    }
   ],
   "source": [
    "# the dimensions of the array\n",
    "a.shape"
   ]
  },
  {
   "cell_type": "code",
   "execution_count": 5,
   "metadata": {},
   "outputs": [
    {
     "data": {
      "text/plain": [
       "6"
      ]
     },
     "execution_count": 5,
     "metadata": {},
     "output_type": "execute_result"
    }
   ],
   "source": [
    "# the total number of elements of the array\n",
    "a.size"
   ]
  },
  {
   "cell_type": "code",
   "execution_count": 6,
   "metadata": {},
   "outputs": [
    {
     "data": {
      "text/plain": [
       "dtype('float64')"
      ]
     },
     "execution_count": 6,
     "metadata": {},
     "output_type": "execute_result"
    }
   ],
   "source": [
    "# an object describing the type of the elements in the array\n",
    "a.dtype"
   ]
  },
  {
   "cell_type": "code",
   "execution_count": 7,
   "metadata": {},
   "outputs": [
    {
     "data": {
      "text/plain": [
       "8"
      ]
     },
     "execution_count": 7,
     "metadata": {},
     "output_type": "execute_result"
    }
   ],
   "source": [
    "# the size in bytes of each element of the array\n",
    "a.itemsize"
   ]
  },
  {
   "cell_type": "code",
   "execution_count": 8,
   "metadata": {},
   "outputs": [
    {
     "data": {
      "text/plain": [
       "<memory at 0x0000018B6E0D6630>"
      ]
     },
     "execution_count": 8,
     "metadata": {},
     "output_type": "execute_result"
    }
   ],
   "source": [
    "# the buffer containing the actual elements of the array\n",
    "a.data"
   ]
  },
  {
   "cell_type": "markdown",
   "metadata": {},
   "source": [
    "The function zeros creates an array full of zeros, the function ones creates an array full of ones, and the function empty creates an array whose initial content is random and depends on the state of the memory. By default, the dtype of the created array is float64."
   ]
  },
  {
   "cell_type": "code",
   "execution_count": 12,
   "metadata": {},
   "outputs": [
    {
     "data": {
      "text/plain": [
       "array([[0., 0., 0., 0.],\n",
       "       [0., 0., 0., 0.],\n",
       "       [0., 0., 0., 0.]])"
      ]
     },
     "execution_count": 12,
     "metadata": {},
     "output_type": "execute_result"
    }
   ],
   "source": [
    "np.zeros((3, 4))"
   ]
  },
  {
   "cell_type": "code",
   "execution_count": 9,
   "metadata": {},
   "outputs": [
    {
     "data": {
      "text/plain": [
       "array([[1., 1., 1., 1.],\n",
       "       [1., 1., 1., 1.],\n",
       "       [1., 1., 1., 1.]])"
      ]
     },
     "execution_count": 9,
     "metadata": {},
     "output_type": "execute_result"
    }
   ],
   "source": [
    "np.ones((3, 4))"
   ]
  },
  {
   "cell_type": "code",
   "execution_count": 13,
   "metadata": {},
   "outputs": [
    {
     "data": {
      "text/plain": [
       "array([[[1., 1., 1., 1.],\n",
       "        [1., 1., 1., 1.],\n",
       "        [1., 1., 1., 1.]],\n",
       "\n",
       "       [[1., 1., 1., 1.],\n",
       "        [1., 1., 1., 1.],\n",
       "        [1., 1., 1., 1.]]])"
      ]
     },
     "execution_count": 13,
     "metadata": {},
     "output_type": "execute_result"
    }
   ],
   "source": [
    "np.ones((2, 3, 4))"
   ]
  },
  {
   "cell_type": "code",
   "execution_count": null,
   "metadata": {},
   "outputs": [],
   "source": []
  },
  {
   "cell_type": "markdown",
   "metadata": {},
   "source": [
    "To create sequences of numbers, NumPy provides the arange function which is analogous to the Python built-in range, but returns an array."
   ]
  },
  {
   "cell_type": "code",
   "execution_count": 10,
   "metadata": {},
   "outputs": [
    {
     "data": {
      "text/plain": [
       "array([10, 15, 20, 25])"
      ]
     },
     "execution_count": 10,
     "metadata": {},
     "output_type": "execute_result"
    }
   ],
   "source": [
    "np.arange(10, 30, 5)"
   ]
  },
  {
   "cell_type": "code",
   "execution_count": 11,
   "metadata": {},
   "outputs": [
    {
     "data": {
      "text/plain": [
       "array([0. , 0.3, 0.6, 0.9, 1.2, 1.5, 1.8])"
      ]
     },
     "execution_count": 11,
     "metadata": {},
     "output_type": "execute_result"
    }
   ],
   "source": [
    "np.arange(0, 2, 0.3)"
   ]
  },
  {
   "cell_type": "markdown",
   "metadata": {},
   "source": [
    "When arange is used with floating point arguments, it is generally not possible to predict the number of elements obtained, due to the finite floating point precision. For this reason, it is usually better to use the function linspace that receives as an argument the number of elements that we want, instead of the step:"
   ]
  },
  {
   "cell_type": "code",
   "execution_count": 16,
   "metadata": {},
   "outputs": [
    {
     "data": {
      "text/plain": [
       "array([0.  , 0.25, 0.5 , 0.75, 1.  , 1.25, 1.5 , 1.75, 2.  ])"
      ]
     },
     "execution_count": 16,
     "metadata": {},
     "output_type": "execute_result"
    }
   ],
   "source": [
    "np.linspace(0, 2, 9)"
   ]
  },
  {
   "cell_type": "markdown",
   "metadata": {},
   "source": [
    "## Subscripts"
   ]
  },
  {
   "cell_type": "code",
   "execution_count": 12,
   "metadata": {},
   "outputs": [],
   "source": [
    "A = np.array([[8., 1., 6.],\n",
    "              [3., 5., 7.],\n",
    "              [4., 9., 2.]])"
   ]
  },
  {
   "cell_type": "code",
   "execution_count": 13,
   "metadata": {},
   "outputs": [
    {
     "data": {
      "text/plain": [
       "7.0"
      ]
     },
     "execution_count": 13,
     "metadata": {},
     "output_type": "execute_result"
    }
   ],
   "source": [
    "A[1, 2]"
   ]
  },
  {
   "cell_type": "code",
   "execution_count": 14,
   "metadata": {},
   "outputs": [
    {
     "data": {
      "text/plain": [
       "array([8., 1., 6.])"
      ]
     },
     "execution_count": 14,
     "metadata": {},
     "output_type": "execute_result"
    }
   ],
   "source": [
    "A[0]"
   ]
  },
  {
   "cell_type": "code",
   "execution_count": 16,
   "metadata": {},
   "outputs": [
    {
     "data": {
      "text/plain": [
       "array([1., 5., 9.])"
      ]
     },
     "execution_count": 16,
     "metadata": {},
     "output_type": "execute_result"
    }
   ],
   "source": [
    "A[:, 1]"
   ]
  },
  {
   "cell_type": "code",
   "execution_count": 17,
   "metadata": {},
   "outputs": [
    {
     "data": {
      "text/plain": [
       "array([6., 7., 2.])"
      ]
     },
     "execution_count": 17,
     "metadata": {},
     "output_type": "execute_result"
    }
   ],
   "source": [
    "A[:, 2]"
   ]
  },
  {
   "cell_type": "code",
   "execution_count": 18,
   "metadata": {},
   "outputs": [],
   "source": [
    "x = np.array([3, 5, 7, 8])"
   ]
  },
  {
   "cell_type": "code",
   "execution_count": 20,
   "metadata": {},
   "outputs": [
    {
     "data": {
      "text/plain": [
       "7"
      ]
     },
     "execution_count": 20,
     "metadata": {},
     "output_type": "execute_result"
    }
   ],
   "source": [
    "# Negative indices count from end\n",
    "x[-2]"
   ]
  },
  {
   "cell_type": "markdown",
   "metadata": {},
   "source": [
    "## Attributes"
   ]
  },
  {
   "cell_type": "code",
   "execution_count": 21,
   "metadata": {},
   "outputs": [
    {
     "data": {
      "text/plain": [
       "(3, 3)"
      ]
     },
     "execution_count": 21,
     "metadata": {},
     "output_type": "execute_result"
    }
   ],
   "source": [
    "A.shape"
   ]
  },
  {
   "cell_type": "code",
   "execution_count": 22,
   "metadata": {},
   "outputs": [
    {
     "data": {
      "text/plain": [
       "array([8., 1., 6., 3., 5., 7., 4., 9., 2.])"
      ]
     },
     "execution_count": 22,
     "metadata": {},
     "output_type": "execute_result"
    }
   ],
   "source": [
    "A.flatten()"
   ]
  },
  {
   "cell_type": "code",
   "execution_count": 23,
   "metadata": {},
   "outputs": [],
   "source": [
    "B = A.copy()"
   ]
  },
  {
   "cell_type": "code",
   "execution_count": 24,
   "metadata": {},
   "outputs": [
    {
     "data": {
      "text/plain": [
       "array([[8., 1., 6.],\n",
       "       [3., 5., 7.],\n",
       "       [4., 9., 2.]])"
      ]
     },
     "execution_count": 24,
     "metadata": {},
     "output_type": "execute_result"
    }
   ],
   "source": [
    "B"
   ]
  },
  {
   "cell_type": "code",
   "execution_count": 25,
   "metadata": {},
   "outputs": [],
   "source": [
    "B[1, 1] = -1"
   ]
  },
  {
   "cell_type": "code",
   "execution_count": 26,
   "metadata": {},
   "outputs": [
    {
     "data": {
      "text/plain": [
       "array([[ 8.,  1.,  6.],\n",
       "       [ 3., -1.,  7.],\n",
       "       [ 4.,  9.,  2.]])"
      ]
     },
     "execution_count": 26,
     "metadata": {},
     "output_type": "execute_result"
    }
   ],
   "source": [
    "B"
   ]
  },
  {
   "cell_type": "code",
   "execution_count": 36,
   "metadata": {},
   "outputs": [
    {
     "data": {
      "text/plain": [
       "array([[8., 1., 6.],\n",
       "       [3., 5., 7.],\n",
       "       [4., 9., 2.]])"
      ]
     },
     "execution_count": 36,
     "metadata": {},
     "output_type": "execute_result"
    }
   ],
   "source": [
    "A"
   ]
  },
  {
   "cell_type": "code",
   "execution_count": 27,
   "metadata": {},
   "outputs": [
    {
     "data": {
      "text/plain": [
       "array([[8., 3., 4.],\n",
       "       [1., 5., 9.],\n",
       "       [6., 7., 2.]])"
      ]
     },
     "execution_count": 27,
     "metadata": {},
     "output_type": "execute_result"
    }
   ],
   "source": [
    "A.transpose()"
   ]
  },
  {
   "cell_type": "markdown",
   "metadata": {},
   "source": [
    "## Methods"
   ]
  },
  {
   "cell_type": "code",
   "execution_count": 29,
   "metadata": {},
   "outputs": [],
   "source": [
    "x = np.arange(24)"
   ]
  },
  {
   "cell_type": "code",
   "execution_count": 30,
   "metadata": {},
   "outputs": [
    {
     "data": {
      "text/plain": [
       "array([ 0,  1,  2,  3,  4,  5,  6,  7,  8,  9, 10, 11, 12, 13, 14, 15, 16,\n",
       "       17, 18, 19, 20, 21, 22, 23])"
      ]
     },
     "execution_count": 30,
     "metadata": {},
     "output_type": "execute_result"
    }
   ],
   "source": [
    "x"
   ]
  },
  {
   "cell_type": "code",
   "execution_count": 31,
   "metadata": {},
   "outputs": [],
   "source": [
    "# turn into 4 * 6 matrix\n",
    "y = x.reshape([4, 6]).copy()"
   ]
  },
  {
   "cell_type": "code",
   "execution_count": 35,
   "metadata": {},
   "outputs": [
    {
     "data": {
      "text/plain": [
       "array([[ 0,  1,  2,  3,  4,  5],\n",
       "       [ 6,  7,  8,  9, 10, 11],\n",
       "       [12, 13, 14, 15, 16, 17],\n",
       "       [18, 19, 20, 21, 22, 23]])"
      ]
     },
     "execution_count": 35,
     "metadata": {},
     "output_type": "execute_result"
    }
   ],
   "source": [
    "y"
   ]
  },
  {
   "cell_type": "code",
   "execution_count": 36,
   "metadata": {},
   "outputs": [
    {
     "data": {
      "text/plain": [
       "276"
      ]
     },
     "execution_count": 36,
     "metadata": {},
     "output_type": "execute_result"
    }
   ],
   "source": [
    "# sum all of y\n",
    "np.sum(y)"
   ]
  },
  {
   "cell_type": "code",
   "execution_count": 37,
   "metadata": {},
   "outputs": [
    {
     "data": {
      "text/plain": [
       "276"
      ]
     },
     "execution_count": 37,
     "metadata": {},
     "output_type": "execute_result"
    }
   ],
   "source": [
    "y.sum()"
   ]
  },
  {
   "cell_type": "code",
   "execution_count": 38,
   "metadata": {},
   "outputs": [
    {
     "data": {
      "text/plain": [
       "array([36, 40, 44, 48, 52, 56])"
      ]
     },
     "execution_count": 38,
     "metadata": {},
     "output_type": "execute_result"
    }
   ],
   "source": [
    "#sum columns\n",
    "y.sum(0)"
   ]
  },
  {
   "cell_type": "code",
   "execution_count": 40,
   "metadata": {},
   "outputs": [
    {
     "data": {
      "text/plain": [
       "array([36, 40, 44, 48, 52, 56])"
      ]
     },
     "execution_count": 40,
     "metadata": {},
     "output_type": "execute_result"
    }
   ],
   "source": [
    "# sum columns\n",
    "y.sum(axis = 0)"
   ]
  },
  {
   "cell_type": "code",
   "execution_count": 41,
   "metadata": {},
   "outputs": [
    {
     "data": {
      "text/plain": [
       "array([36, 40, 44, 48, 52, 56])"
      ]
     },
     "execution_count": 41,
     "metadata": {},
     "output_type": "execute_result"
    }
   ],
   "source": [
    "# sum columns\n",
    "np.sum(y, axis = 0)"
   ]
  },
  {
   "cell_type": "code",
   "execution_count": 42,
   "metadata": {},
   "outputs": [
    {
     "data": {
      "text/plain": [
       "36"
      ]
     },
     "execution_count": 42,
     "metadata": {},
     "output_type": "execute_result"
    }
   ],
   "source": [
    "# sum only first column\n",
    "np.sum(y[:, 0])"
   ]
  },
  {
   "cell_type": "code",
   "execution_count": 43,
   "metadata": {},
   "outputs": [
    {
     "data": {
      "text/plain": [
       "array([ 15,  51,  87, 123])"
      ]
     },
     "execution_count": 43,
     "metadata": {},
     "output_type": "execute_result"
    }
   ],
   "source": [
    "# sum long rows\n",
    "y.sum(1)\n",
    "\n",
    "# sum long rows\n",
    "y.sum(axis = 1)"
   ]
  },
  {
   "cell_type": "code",
   "execution_count": 44,
   "metadata": {},
   "outputs": [
    {
     "data": {
      "text/plain": [
       "15"
      ]
     },
     "execution_count": 44,
     "metadata": {},
     "output_type": "execute_result"
    }
   ],
   "source": [
    "# sum first row\n",
    "np.sum(y[0,:])"
   ]
  },
  {
   "cell_type": "code",
   "execution_count": 45,
   "metadata": {},
   "outputs": [
    {
     "data": {
      "text/plain": [
       "array([ 0,  1,  2,  3,  4,  5,  6,  7,  8,  9, 10, 11, 12, 13, 14, 15, 16,\n",
       "       17, 18, 19, 20, 21, 22, 23])"
      ]
     },
     "execution_count": 45,
     "metadata": {},
     "output_type": "execute_result"
    }
   ],
   "source": [
    "x"
   ]
  },
  {
   "cell_type": "code",
   "execution_count": 53,
   "metadata": {},
   "outputs": [
    {
     "data": {
      "text/plain": [
       "11.5"
      ]
     },
     "execution_count": 53,
     "metadata": {},
     "output_type": "execute_result"
    }
   ],
   "source": [
    "np.mean(x)"
   ]
  },
  {
   "cell_type": "code",
   "execution_count": 54,
   "metadata": {},
   "outputs": [
    {
     "data": {
      "text/plain": [
       "47.916666666666664"
      ]
     },
     "execution_count": 54,
     "metadata": {},
     "output_type": "execute_result"
    }
   ],
   "source": [
    "np.var(x)"
   ]
  },
  {
   "cell_type": "code",
   "execution_count": null,
   "metadata": {},
   "outputs": [],
   "source": []
  },
  {
   "cell_type": "code",
   "execution_count": null,
   "metadata": {},
   "outputs": [],
   "source": []
  },
  {
   "cell_type": "markdown",
   "metadata": {},
   "source": [
    "# Pandas"
   ]
  },
  {
   "cell_type": "markdown",
   "metadata": {},
   "source": [
    "Pandas is a Python library used for working with data sets. It has functions for analyzing, cleaning, exploring, and manipulating data. The name \"Pandas\" has a reference to both \"Panel Data\", and \"Python Data Analysis\"."
   ]
  },
  {
   "cell_type": "code",
   "execution_count": 55,
   "metadata": {},
   "outputs": [
    {
     "name": "stdout",
     "output_type": "stream",
     "text": [
      "    cars  passings\n",
      "0    BMW         3\n",
      "1  Volvo         7\n",
      "2   Ford         2\n"
     ]
    }
   ],
   "source": [
    "import pandas\n",
    "\n",
    "mydataset = {\n",
    "  'cars': [\"BMW\", \"Volvo\", \"Ford\"],\n",
    "  'passings': [3, 7, 2]\n",
    "}\n",
    "\n",
    "myvar = pandas.DataFrame(mydataset)\n",
    "\n",
    "print(myvar)"
   ]
  },
  {
   "cell_type": "code",
   "execution_count": 46,
   "metadata": {},
   "outputs": [
    {
     "name": "stdout",
     "output_type": "stream",
     "text": [
      "    cars  passings\n",
      "0    BMW         3\n",
      "1  Volvo         7\n",
      "2   Ford         2\n"
     ]
    }
   ],
   "source": [
    "import pandas as dffffff\n",
    "\n",
    "mydataset = {\n",
    "  'cars': [\"BMW\", \"Volvo\", \"Ford\"],\n",
    "  'passings': [3, 7, 2]\n",
    "}\n",
    "\n",
    "myvar = dffffff.DataFrame(mydataset)\n",
    "\n",
    "print(myvar)"
   ]
  },
  {
   "cell_type": "markdown",
   "metadata": {},
   "source": [
    "## Pandas Series"
   ]
  },
  {
   "cell_type": "markdown",
   "metadata": {},
   "source": [
    "A Pandas Series is like a column in a table. It is a one-dimensional array holding data of any type."
   ]
  },
  {
   "cell_type": "code",
   "execution_count": 48,
   "metadata": {},
   "outputs": [
    {
     "name": "stdout",
     "output_type": "stream",
     "text": [
      "0    1\n",
      "1    7\n",
      "2    2\n",
      "dtype: int64\n"
     ]
    }
   ],
   "source": [
    "# Create a simple Pandas Series from a list\n",
    "import pandas as pd\n",
    "\n",
    "a = [1, 7, 2]\n",
    "\n",
    "myvar = pd.Series(a)\n",
    "\n",
    "print(myvar)"
   ]
  },
  {
   "cell_type": "markdown",
   "metadata": {},
   "source": [
    "## Labels"
   ]
  },
  {
   "cell_type": "markdown",
   "metadata": {},
   "source": [
    "If nothing else is specified, the values are labeled with their index number. First value has index 0, second value has index 1 etc.\n",
    "\n",
    "This label can be used to access a specified value."
   ]
  },
  {
   "cell_type": "code",
   "execution_count": 49,
   "metadata": {},
   "outputs": [
    {
     "name": "stdout",
     "output_type": "stream",
     "text": [
      "1\n"
     ]
    }
   ],
   "source": [
    "print(myvar[0])"
   ]
  },
  {
   "cell_type": "markdown",
   "metadata": {},
   "source": [
    "## Create Labels"
   ]
  },
  {
   "cell_type": "markdown",
   "metadata": {},
   "source": [
    "With the index argument, you can name your own labels."
   ]
  },
  {
   "cell_type": "code",
   "execution_count": 50,
   "metadata": {},
   "outputs": [
    {
     "name": "stdout",
     "output_type": "stream",
     "text": [
      "x    1\n",
      "y    7\n",
      "z    2\n",
      "dtype: int64\n"
     ]
    }
   ],
   "source": [
    "import pandas as pd\n",
    "\n",
    "a = [1, 7, 2]\n",
    "\n",
    "myvar = pd.Series(a, index = [\"x\", \"y\", \"z\"])\n",
    "\n",
    "print(myvar)"
   ]
  },
  {
   "cell_type": "markdown",
   "metadata": {},
   "source": [
    "## Pandas DataFrames"
   ]
  },
  {
   "cell_type": "markdown",
   "metadata": {},
   "source": [
    "A Pandas DataFrame is a 2 dimensional data structure, like a 2 dimensional array, or a table with rows and columns."
   ]
  },
  {
   "cell_type": "code",
   "execution_count": 51,
   "metadata": {},
   "outputs": [
    {
     "name": "stdout",
     "output_type": "stream",
     "text": [
      "   calories  duration\n",
      "0       420        50\n",
      "1       380        40\n",
      "2       390        45\n"
     ]
    }
   ],
   "source": [
    "import pandas as pd\n",
    "\n",
    "data = {\n",
    "  \"calories\": [420, 380, 390],\n",
    "  \"duration\": [50, 40, 45]\n",
    "}\n",
    "\n",
    "#load data into a DataFrame object:\n",
    "df = pd.DataFrame(data)\n",
    "\n",
    "print(df) "
   ]
  },
  {
   "cell_type": "markdown",
   "metadata": {},
   "source": [
    "## Locate Row"
   ]
  },
  {
   "cell_type": "markdown",
   "metadata": {},
   "source": [
    "As you can see from the result above, the DataFrame is like a table with rows and columns. Pandas use the loc attribute to return one or more specified row(s)"
   ]
  },
  {
   "cell_type": "code",
   "execution_count": 53,
   "metadata": {
    "scrolled": true
   },
   "outputs": [
    {
     "name": "stdout",
     "output_type": "stream",
     "text": [
      "calories    420\n",
      "duration     50\n",
      "Name: 0, dtype: int64\n"
     ]
    }
   ],
   "source": [
    "# refer to the row index\n",
    "print(df.loc[0])"
   ]
  },
  {
   "cell_type": "code",
   "execution_count": 52,
   "metadata": {},
   "outputs": [
    {
     "data": {
      "text/plain": [
       "420"
      ]
     },
     "execution_count": 52,
     "metadata": {},
     "output_type": "execute_result"
    }
   ],
   "source": [
    "df[\"calories\"].iloc[0]"
   ]
  },
  {
   "cell_type": "code",
   "execution_count": 54,
   "metadata": {},
   "outputs": [
    {
     "name": "stdout",
     "output_type": "stream",
     "text": [
      "   calories  duration\n",
      "0       420        50\n",
      "1       380        40\n"
     ]
    }
   ],
   "source": [
    "# use a list of indexes\n",
    "print(df.loc[[0, 1]])"
   ]
  },
  {
   "cell_type": "markdown",
   "metadata": {},
   "source": [
    "When using [], the result is a Pandas DataFrame."
   ]
  },
  {
   "cell_type": "markdown",
   "metadata": {},
   "source": [
    "## Load Files into a DataFrame"
   ]
  },
  {
   "cell_type": "markdown",
   "metadata": {},
   "source": [
    "If your data sets are stored in a file, Pandas can load them into a DataFrame."
   ]
  },
  {
   "cell_type": "code",
   "execution_count": 1,
   "metadata": {
    "scrolled": true
   },
   "outputs": [],
   "source": [
    "import pandas as pd\n",
    "\n",
    "#df = pd.read_csv('ICU.csv')\n",
    "\n",
    "#print(df) "
   ]
  },
  {
   "cell_type": "code",
   "execution_count": 3,
   "metadata": {
    "scrolled": true
   },
   "outputs": [
    {
     "data": {
      "text/html": [
       "<div>\n",
       "<style scoped>\n",
       "    .dataframe tbody tr th:only-of-type {\n",
       "        vertical-align: middle;\n",
       "    }\n",
       "\n",
       "    .dataframe tbody tr th {\n",
       "        vertical-align: top;\n",
       "    }\n",
       "\n",
       "    .dataframe thead th {\n",
       "        text-align: right;\n",
       "    }\n",
       "</style>\n",
       "<table border=\"1\" class=\"dataframe\">\n",
       "  <thead>\n",
       "    <tr style=\"text-align: right;\">\n",
       "      <th></th>\n",
       "      <th>Customer</th>\n",
       "      <th>Day</th>\n",
       "      <th>Browser</th>\n",
       "      <th>Time (min)</th>\n",
       "      <th>Pages Viewed</th>\n",
       "      <th>Amount Spent ($)</th>\n",
       "    </tr>\n",
       "  </thead>\n",
       "  <tbody>\n",
       "    <tr>\n",
       "      <th>0</th>\n",
       "      <td>1</td>\n",
       "      <td>Mon</td>\n",
       "      <td>Chrome</td>\n",
       "      <td>12.0</td>\n",
       "      <td>4</td>\n",
       "      <td>54.52</td>\n",
       "    </tr>\n",
       "    <tr>\n",
       "      <th>1</th>\n",
       "      <td>2</td>\n",
       "      <td>Wed</td>\n",
       "      <td>Other</td>\n",
       "      <td>19.5</td>\n",
       "      <td>6</td>\n",
       "      <td>94.90</td>\n",
       "    </tr>\n",
       "    <tr>\n",
       "      <th>2</th>\n",
       "      <td>3</td>\n",
       "      <td>Mon</td>\n",
       "      <td>Chrome</td>\n",
       "      <td>8.5</td>\n",
       "      <td>4</td>\n",
       "      <td>26.68</td>\n",
       "    </tr>\n",
       "    <tr>\n",
       "      <th>3</th>\n",
       "      <td>4</td>\n",
       "      <td>Tue</td>\n",
       "      <td>Firefox</td>\n",
       "      <td>11.4</td>\n",
       "      <td>2</td>\n",
       "      <td>44.73</td>\n",
       "    </tr>\n",
       "    <tr>\n",
       "      <th>4</th>\n",
       "      <td>5</td>\n",
       "      <td>Wed</td>\n",
       "      <td>Chrome</td>\n",
       "      <td>11.3</td>\n",
       "      <td>4</td>\n",
       "      <td>66.27</td>\n",
       "    </tr>\n",
       "    <tr>\n",
       "      <th>5</th>\n",
       "      <td>6</td>\n",
       "      <td>Sat</td>\n",
       "      <td>Firefox</td>\n",
       "      <td>10.5</td>\n",
       "      <td>6</td>\n",
       "      <td>67.80</td>\n",
       "    </tr>\n",
       "    <tr>\n",
       "      <th>6</th>\n",
       "      <td>7</td>\n",
       "      <td>Sun</td>\n",
       "      <td>Chrome</td>\n",
       "      <td>11.4</td>\n",
       "      <td>2</td>\n",
       "      <td>36.04</td>\n",
       "    </tr>\n",
       "    <tr>\n",
       "      <th>7</th>\n",
       "      <td>8</td>\n",
       "      <td>Fri</td>\n",
       "      <td>Firefox</td>\n",
       "      <td>4.3</td>\n",
       "      <td>6</td>\n",
       "      <td>55.96</td>\n",
       "    </tr>\n",
       "    <tr>\n",
       "      <th>8</th>\n",
       "      <td>9</td>\n",
       "      <td>Wed</td>\n",
       "      <td>Firefox</td>\n",
       "      <td>12.7</td>\n",
       "      <td>3</td>\n",
       "      <td>70.94</td>\n",
       "    </tr>\n",
       "    <tr>\n",
       "      <th>9</th>\n",
       "      <td>10</td>\n",
       "      <td>Tue</td>\n",
       "      <td>Chrome</td>\n",
       "      <td>24.7</td>\n",
       "      <td>7</td>\n",
       "      <td>68.73</td>\n",
       "    </tr>\n",
       "    <tr>\n",
       "      <th>10</th>\n",
       "      <td>11</td>\n",
       "      <td>Sat</td>\n",
       "      <td>Other</td>\n",
       "      <td>13.3</td>\n",
       "      <td>6</td>\n",
       "      <td>54.04</td>\n",
       "    </tr>\n",
       "    <tr>\n",
       "      <th>11</th>\n",
       "      <td>12</td>\n",
       "      <td>Sun</td>\n",
       "      <td>Firefox</td>\n",
       "      <td>14.3</td>\n",
       "      <td>5</td>\n",
       "      <td>48.05</td>\n",
       "    </tr>\n",
       "    <tr>\n",
       "      <th>12</th>\n",
       "      <td>13</td>\n",
       "      <td>Sun</td>\n",
       "      <td>Other</td>\n",
       "      <td>11.7</td>\n",
       "      <td>7</td>\n",
       "      <td>64.16</td>\n",
       "    </tr>\n",
       "    <tr>\n",
       "      <th>13</th>\n",
       "      <td>14</td>\n",
       "      <td>Mon</td>\n",
       "      <td>Firefox</td>\n",
       "      <td>24.4</td>\n",
       "      <td>10</td>\n",
       "      <td>158.51</td>\n",
       "    </tr>\n",
       "    <tr>\n",
       "      <th>14</th>\n",
       "      <td>15</td>\n",
       "      <td>Fri</td>\n",
       "      <td>Chrome</td>\n",
       "      <td>8.4</td>\n",
       "      <td>3</td>\n",
       "      <td>84.12</td>\n",
       "    </tr>\n",
       "    <tr>\n",
       "      <th>15</th>\n",
       "      <td>16</td>\n",
       "      <td>Thu</td>\n",
       "      <td>Chrome</td>\n",
       "      <td>9.6</td>\n",
       "      <td>4</td>\n",
       "      <td>59.20</td>\n",
       "    </tr>\n",
       "    <tr>\n",
       "      <th>16</th>\n",
       "      <td>17</td>\n",
       "      <td>Thu</td>\n",
       "      <td>Chrome</td>\n",
       "      <td>23.3</td>\n",
       "      <td>7</td>\n",
       "      <td>91.62</td>\n",
       "    </tr>\n",
       "    <tr>\n",
       "      <th>17</th>\n",
       "      <td>18</td>\n",
       "      <td>Mon</td>\n",
       "      <td>Chrome</td>\n",
       "      <td>14.0</td>\n",
       "      <td>7</td>\n",
       "      <td>126.40</td>\n",
       "    </tr>\n",
       "    <tr>\n",
       "      <th>18</th>\n",
       "      <td>19</td>\n",
       "      <td>Fri</td>\n",
       "      <td>Other</td>\n",
       "      <td>5.6</td>\n",
       "      <td>4</td>\n",
       "      <td>68.45</td>\n",
       "    </tr>\n",
       "    <tr>\n",
       "      <th>19</th>\n",
       "      <td>20</td>\n",
       "      <td>Wed</td>\n",
       "      <td>Chrome</td>\n",
       "      <td>15.1</td>\n",
       "      <td>5</td>\n",
       "      <td>32.69</td>\n",
       "    </tr>\n",
       "    <tr>\n",
       "      <th>20</th>\n",
       "      <td>21</td>\n",
       "      <td>Sat</td>\n",
       "      <td>Firefox</td>\n",
       "      <td>16.3</td>\n",
       "      <td>5</td>\n",
       "      <td>78.58</td>\n",
       "    </tr>\n",
       "    <tr>\n",
       "      <th>21</th>\n",
       "      <td>22</td>\n",
       "      <td>Tue</td>\n",
       "      <td>Chrome</td>\n",
       "      <td>10.2</td>\n",
       "      <td>6</td>\n",
       "      <td>74.43</td>\n",
       "    </tr>\n",
       "    <tr>\n",
       "      <th>22</th>\n",
       "      <td>23</td>\n",
       "      <td>Sun</td>\n",
       "      <td>Chrome</td>\n",
       "      <td>8.0</td>\n",
       "      <td>3</td>\n",
       "      <td>32.73</td>\n",
       "    </tr>\n",
       "    <tr>\n",
       "      <th>23</th>\n",
       "      <td>24</td>\n",
       "      <td>Tue</td>\n",
       "      <td>Firefox</td>\n",
       "      <td>8.0</td>\n",
       "      <td>2</td>\n",
       "      <td>48.66</td>\n",
       "    </tr>\n",
       "    <tr>\n",
       "      <th>24</th>\n",
       "      <td>25</td>\n",
       "      <td>Fri</td>\n",
       "      <td>Firefox</td>\n",
       "      <td>9.6</td>\n",
       "      <td>3</td>\n",
       "      <td>54.66</td>\n",
       "    </tr>\n",
       "    <tr>\n",
       "      <th>25</th>\n",
       "      <td>26</td>\n",
       "      <td>Wed</td>\n",
       "      <td>Chrome</td>\n",
       "      <td>11.0</td>\n",
       "      <td>2</td>\n",
       "      <td>40.54</td>\n",
       "    </tr>\n",
       "    <tr>\n",
       "      <th>26</th>\n",
       "      <td>27</td>\n",
       "      <td>Sat</td>\n",
       "      <td>Chrome</td>\n",
       "      <td>16.9</td>\n",
       "      <td>5</td>\n",
       "      <td>34.69</td>\n",
       "    </tr>\n",
       "    <tr>\n",
       "      <th>27</th>\n",
       "      <td>28</td>\n",
       "      <td>Sat</td>\n",
       "      <td>Firefox</td>\n",
       "      <td>6.0</td>\n",
       "      <td>4</td>\n",
       "      <td>27.91</td>\n",
       "    </tr>\n",
       "    <tr>\n",
       "      <th>28</th>\n",
       "      <td>29</td>\n",
       "      <td>Fri</td>\n",
       "      <td>Firefox</td>\n",
       "      <td>32.9</td>\n",
       "      <td>10</td>\n",
       "      <td>155.30</td>\n",
       "    </tr>\n",
       "    <tr>\n",
       "      <th>29</th>\n",
       "      <td>30</td>\n",
       "      <td>Mon</td>\n",
       "      <td>Other</td>\n",
       "      <td>11.8</td>\n",
       "      <td>9</td>\n",
       "      <td>120.25</td>\n",
       "    </tr>\n",
       "    <tr>\n",
       "      <th>30</th>\n",
       "      <td>31</td>\n",
       "      <td>Thu</td>\n",
       "      <td>Chrome</td>\n",
       "      <td>7.1</td>\n",
       "      <td>2</td>\n",
       "      <td>41.20</td>\n",
       "    </tr>\n",
       "    <tr>\n",
       "      <th>31</th>\n",
       "      <td>32</td>\n",
       "      <td>Fri</td>\n",
       "      <td>Firefox</td>\n",
       "      <td>18.0</td>\n",
       "      <td>8</td>\n",
       "      <td>134.40</td>\n",
       "    </tr>\n",
       "    <tr>\n",
       "      <th>32</th>\n",
       "      <td>33</td>\n",
       "      <td>Sun</td>\n",
       "      <td>Chrome</td>\n",
       "      <td>11.8</td>\n",
       "      <td>4</td>\n",
       "      <td>37.17</td>\n",
       "    </tr>\n",
       "    <tr>\n",
       "      <th>33</th>\n",
       "      <td>34</td>\n",
       "      <td>Fri</td>\n",
       "      <td>Chrome</td>\n",
       "      <td>9.1</td>\n",
       "      <td>3</td>\n",
       "      <td>52.09</td>\n",
       "    </tr>\n",
       "    <tr>\n",
       "      <th>34</th>\n",
       "      <td>35</td>\n",
       "      <td>Tue</td>\n",
       "      <td>Chrome</td>\n",
       "      <td>7.8</td>\n",
       "      <td>5</td>\n",
       "      <td>71.81</td>\n",
       "    </tr>\n",
       "    <tr>\n",
       "      <th>35</th>\n",
       "      <td>36</td>\n",
       "      <td>Mon</td>\n",
       "      <td>Firefox</td>\n",
       "      <td>16.5</td>\n",
       "      <td>5</td>\n",
       "      <td>59.99</td>\n",
       "    </tr>\n",
       "    <tr>\n",
       "      <th>36</th>\n",
       "      <td>37</td>\n",
       "      <td>Thu</td>\n",
       "      <td>Firefox</td>\n",
       "      <td>6.2</td>\n",
       "      <td>4</td>\n",
       "      <td>84.17</td>\n",
       "    </tr>\n",
       "    <tr>\n",
       "      <th>37</th>\n",
       "      <td>38</td>\n",
       "      <td>Sat</td>\n",
       "      <td>Chrome</td>\n",
       "      <td>11.3</td>\n",
       "      <td>4</td>\n",
       "      <td>55.58</td>\n",
       "    </tr>\n",
       "    <tr>\n",
       "      <th>38</th>\n",
       "      <td>39</td>\n",
       "      <td>Tue</td>\n",
       "      <td>Chrome</td>\n",
       "      <td>10.6</td>\n",
       "      <td>2</td>\n",
       "      <td>39.06</td>\n",
       "    </tr>\n",
       "    <tr>\n",
       "      <th>39</th>\n",
       "      <td>40</td>\n",
       "      <td>Wed</td>\n",
       "      <td>Chrome</td>\n",
       "      <td>5.0</td>\n",
       "      <td>5</td>\n",
       "      <td>36.48</td>\n",
       "    </tr>\n",
       "    <tr>\n",
       "      <th>40</th>\n",
       "      <td>41</td>\n",
       "      <td>Tue</td>\n",
       "      <td>Other</td>\n",
       "      <td>15.9</td>\n",
       "      <td>4</td>\n",
       "      <td>67.44</td>\n",
       "    </tr>\n",
       "    <tr>\n",
       "      <th>41</th>\n",
       "      <td>42</td>\n",
       "      <td>Sat</td>\n",
       "      <td>Chrome</td>\n",
       "      <td>18.1</td>\n",
       "      <td>7</td>\n",
       "      <td>60.14</td>\n",
       "    </tr>\n",
       "    <tr>\n",
       "      <th>42</th>\n",
       "      <td>43</td>\n",
       "      <td>Fri</td>\n",
       "      <td>Firefox</td>\n",
       "      <td>10.8</td>\n",
       "      <td>4</td>\n",
       "      <td>70.38</td>\n",
       "    </tr>\n",
       "    <tr>\n",
       "      <th>43</th>\n",
       "      <td>44</td>\n",
       "      <td>Mon</td>\n",
       "      <td>Chrome</td>\n",
       "      <td>13.3</td>\n",
       "      <td>7</td>\n",
       "      <td>110.65</td>\n",
       "    </tr>\n",
       "    <tr>\n",
       "      <th>44</th>\n",
       "      <td>45</td>\n",
       "      <td>Mon</td>\n",
       "      <td>Chrome</td>\n",
       "      <td>30.1</td>\n",
       "      <td>6</td>\n",
       "      <td>104.23</td>\n",
       "    </tr>\n",
       "    <tr>\n",
       "      <th>45</th>\n",
       "      <td>46</td>\n",
       "      <td>Fri</td>\n",
       "      <td>Firefox</td>\n",
       "      <td>13.7</td>\n",
       "      <td>4</td>\n",
       "      <td>68.17</td>\n",
       "    </tr>\n",
       "    <tr>\n",
       "      <th>46</th>\n",
       "      <td>47</td>\n",
       "      <td>Thu</td>\n",
       "      <td>Chrome</td>\n",
       "      <td>8.1</td>\n",
       "      <td>2</td>\n",
       "      <td>17.84</td>\n",
       "    </tr>\n",
       "    <tr>\n",
       "      <th>47</th>\n",
       "      <td>48</td>\n",
       "      <td>Fri</td>\n",
       "      <td>Chrome</td>\n",
       "      <td>9.7</td>\n",
       "      <td>5</td>\n",
       "      <td>103.15</td>\n",
       "    </tr>\n",
       "    <tr>\n",
       "      <th>48</th>\n",
       "      <td>49</td>\n",
       "      <td>Mon</td>\n",
       "      <td>Other</td>\n",
       "      <td>7.3</td>\n",
       "      <td>6</td>\n",
       "      <td>52.15</td>\n",
       "    </tr>\n",
       "    <tr>\n",
       "      <th>49</th>\n",
       "      <td>50</td>\n",
       "      <td>Fri</td>\n",
       "      <td>Chrome</td>\n",
       "      <td>13.4</td>\n",
       "      <td>3</td>\n",
       "      <td>98.75</td>\n",
       "    </tr>\n",
       "  </tbody>\n",
       "</table>\n",
       "</div>"
      ],
      "text/plain": [
       "    Customer  Day  Browser  Time (min)  Pages Viewed  Amount Spent ($)\n",
       "0          1  Mon   Chrome        12.0             4             54.52\n",
       "1          2  Wed    Other        19.5             6             94.90\n",
       "2          3  Mon   Chrome         8.5             4             26.68\n",
       "3          4  Tue  Firefox        11.4             2             44.73\n",
       "4          5  Wed   Chrome        11.3             4             66.27\n",
       "5          6  Sat  Firefox        10.5             6             67.80\n",
       "6          7  Sun   Chrome        11.4             2             36.04\n",
       "7          8  Fri  Firefox         4.3             6             55.96\n",
       "8          9  Wed  Firefox        12.7             3             70.94\n",
       "9         10  Tue   Chrome        24.7             7             68.73\n",
       "10        11  Sat    Other        13.3             6             54.04\n",
       "11        12  Sun  Firefox        14.3             5             48.05\n",
       "12        13  Sun    Other        11.7             7             64.16\n",
       "13        14  Mon  Firefox        24.4            10            158.51\n",
       "14        15  Fri   Chrome         8.4             3             84.12\n",
       "15        16  Thu   Chrome         9.6             4             59.20\n",
       "16        17  Thu   Chrome        23.3             7             91.62\n",
       "17        18  Mon   Chrome        14.0             7            126.40\n",
       "18        19  Fri    Other         5.6             4             68.45\n",
       "19        20  Wed   Chrome        15.1             5             32.69\n",
       "20        21  Sat  Firefox        16.3             5             78.58\n",
       "21        22  Tue   Chrome        10.2             6             74.43\n",
       "22        23  Sun   Chrome         8.0             3             32.73\n",
       "23        24  Tue  Firefox         8.0             2             48.66\n",
       "24        25  Fri  Firefox         9.6             3             54.66\n",
       "25        26  Wed   Chrome        11.0             2             40.54\n",
       "26        27  Sat   Chrome        16.9             5             34.69\n",
       "27        28  Sat  Firefox         6.0             4             27.91\n",
       "28        29  Fri  Firefox        32.9            10            155.30\n",
       "29        30  Mon    Other        11.8             9            120.25\n",
       "30        31  Thu   Chrome         7.1             2             41.20\n",
       "31        32  Fri  Firefox        18.0             8            134.40\n",
       "32        33  Sun   Chrome        11.8             4             37.17\n",
       "33        34  Fri   Chrome         9.1             3             52.09\n",
       "34        35  Tue   Chrome         7.8             5             71.81\n",
       "35        36  Mon  Firefox        16.5             5             59.99\n",
       "36        37  Thu  Firefox         6.2             4             84.17\n",
       "37        38  Sat   Chrome        11.3             4             55.58\n",
       "38        39  Tue   Chrome        10.6             2             39.06\n",
       "39        40  Wed   Chrome         5.0             5             36.48\n",
       "40        41  Tue    Other        15.9             4             67.44\n",
       "41        42  Sat   Chrome        18.1             7             60.14\n",
       "42        43  Fri  Firefox        10.8             4             70.38\n",
       "43        44  Mon   Chrome        13.3             7            110.65\n",
       "44        45  Mon   Chrome        30.1             6            104.23\n",
       "45        46  Fri  Firefox        13.7             4             68.17\n",
       "46        47  Thu   Chrome         8.1             2             17.84\n",
       "47        48  Fri   Chrome         9.7             5            103.15\n",
       "48        49  Mon    Other         7.3             6             52.15\n",
       "49        50  Fri   Chrome        13.4             3             98.75"
      ]
     },
     "execution_count": 3,
     "metadata": {},
     "output_type": "execute_result"
    }
   ],
   "source": [
    "pd.read_excel('HeavenlyChocolates.xlsx') "
   ]
  },
  {
   "cell_type": "code",
   "execution_count": 4,
   "metadata": {
    "scrolled": true
   },
   "outputs": [
    {
     "data": {
      "text/html": [
       "<div>\n",
       "<style scoped>\n",
       "    .dataframe tbody tr th:only-of-type {\n",
       "        vertical-align: middle;\n",
       "    }\n",
       "\n",
       "    .dataframe tbody tr th {\n",
       "        vertical-align: top;\n",
       "    }\n",
       "\n",
       "    .dataframe thead th {\n",
       "        text-align: right;\n",
       "    }\n",
       "</style>\n",
       "<table border=\"1\" class=\"dataframe\">\n",
       "  <thead>\n",
       "    <tr style=\"text-align: right;\">\n",
       "      <th></th>\n",
       "      <th>Day</th>\n",
       "      <th>Browser</th>\n",
       "      <th>Time (min)</th>\n",
       "      <th>Pages Viewed</th>\n",
       "      <th>Amount Spent ($)</th>\n",
       "    </tr>\n",
       "    <tr>\n",
       "      <th>Customer</th>\n",
       "      <th></th>\n",
       "      <th></th>\n",
       "      <th></th>\n",
       "      <th></th>\n",
       "      <th></th>\n",
       "    </tr>\n",
       "  </thead>\n",
       "  <tbody>\n",
       "    <tr>\n",
       "      <th>1</th>\n",
       "      <td>Mon</td>\n",
       "      <td>Chrome</td>\n",
       "      <td>12.0</td>\n",
       "      <td>4</td>\n",
       "      <td>54.52</td>\n",
       "    </tr>\n",
       "    <tr>\n",
       "      <th>2</th>\n",
       "      <td>Wed</td>\n",
       "      <td>Other</td>\n",
       "      <td>19.5</td>\n",
       "      <td>6</td>\n",
       "      <td>94.90</td>\n",
       "    </tr>\n",
       "    <tr>\n",
       "      <th>3</th>\n",
       "      <td>Mon</td>\n",
       "      <td>Chrome</td>\n",
       "      <td>8.5</td>\n",
       "      <td>4</td>\n",
       "      <td>26.68</td>\n",
       "    </tr>\n",
       "    <tr>\n",
       "      <th>4</th>\n",
       "      <td>Tue</td>\n",
       "      <td>Firefox</td>\n",
       "      <td>11.4</td>\n",
       "      <td>2</td>\n",
       "      <td>44.73</td>\n",
       "    </tr>\n",
       "    <tr>\n",
       "      <th>5</th>\n",
       "      <td>Wed</td>\n",
       "      <td>Chrome</td>\n",
       "      <td>11.3</td>\n",
       "      <td>4</td>\n",
       "      <td>66.27</td>\n",
       "    </tr>\n",
       "    <tr>\n",
       "      <th>6</th>\n",
       "      <td>Sat</td>\n",
       "      <td>Firefox</td>\n",
       "      <td>10.5</td>\n",
       "      <td>6</td>\n",
       "      <td>67.80</td>\n",
       "    </tr>\n",
       "    <tr>\n",
       "      <th>7</th>\n",
       "      <td>Sun</td>\n",
       "      <td>Chrome</td>\n",
       "      <td>11.4</td>\n",
       "      <td>2</td>\n",
       "      <td>36.04</td>\n",
       "    </tr>\n",
       "    <tr>\n",
       "      <th>8</th>\n",
       "      <td>Fri</td>\n",
       "      <td>Firefox</td>\n",
       "      <td>4.3</td>\n",
       "      <td>6</td>\n",
       "      <td>55.96</td>\n",
       "    </tr>\n",
       "    <tr>\n",
       "      <th>9</th>\n",
       "      <td>Wed</td>\n",
       "      <td>Firefox</td>\n",
       "      <td>12.7</td>\n",
       "      <td>3</td>\n",
       "      <td>70.94</td>\n",
       "    </tr>\n",
       "    <tr>\n",
       "      <th>10</th>\n",
       "      <td>Tue</td>\n",
       "      <td>Chrome</td>\n",
       "      <td>24.7</td>\n",
       "      <td>7</td>\n",
       "      <td>68.73</td>\n",
       "    </tr>\n",
       "    <tr>\n",
       "      <th>11</th>\n",
       "      <td>Sat</td>\n",
       "      <td>Other</td>\n",
       "      <td>13.3</td>\n",
       "      <td>6</td>\n",
       "      <td>54.04</td>\n",
       "    </tr>\n",
       "    <tr>\n",
       "      <th>12</th>\n",
       "      <td>Sun</td>\n",
       "      <td>Firefox</td>\n",
       "      <td>14.3</td>\n",
       "      <td>5</td>\n",
       "      <td>48.05</td>\n",
       "    </tr>\n",
       "    <tr>\n",
       "      <th>13</th>\n",
       "      <td>Sun</td>\n",
       "      <td>Other</td>\n",
       "      <td>11.7</td>\n",
       "      <td>7</td>\n",
       "      <td>64.16</td>\n",
       "    </tr>\n",
       "    <tr>\n",
       "      <th>14</th>\n",
       "      <td>Mon</td>\n",
       "      <td>Firefox</td>\n",
       "      <td>24.4</td>\n",
       "      <td>10</td>\n",
       "      <td>158.51</td>\n",
       "    </tr>\n",
       "    <tr>\n",
       "      <th>15</th>\n",
       "      <td>Fri</td>\n",
       "      <td>Chrome</td>\n",
       "      <td>8.4</td>\n",
       "      <td>3</td>\n",
       "      <td>84.12</td>\n",
       "    </tr>\n",
       "    <tr>\n",
       "      <th>16</th>\n",
       "      <td>Thu</td>\n",
       "      <td>Chrome</td>\n",
       "      <td>9.6</td>\n",
       "      <td>4</td>\n",
       "      <td>59.20</td>\n",
       "    </tr>\n",
       "    <tr>\n",
       "      <th>17</th>\n",
       "      <td>Thu</td>\n",
       "      <td>Chrome</td>\n",
       "      <td>23.3</td>\n",
       "      <td>7</td>\n",
       "      <td>91.62</td>\n",
       "    </tr>\n",
       "    <tr>\n",
       "      <th>18</th>\n",
       "      <td>Mon</td>\n",
       "      <td>Chrome</td>\n",
       "      <td>14.0</td>\n",
       "      <td>7</td>\n",
       "      <td>126.40</td>\n",
       "    </tr>\n",
       "    <tr>\n",
       "      <th>19</th>\n",
       "      <td>Fri</td>\n",
       "      <td>Other</td>\n",
       "      <td>5.6</td>\n",
       "      <td>4</td>\n",
       "      <td>68.45</td>\n",
       "    </tr>\n",
       "    <tr>\n",
       "      <th>20</th>\n",
       "      <td>Wed</td>\n",
       "      <td>Chrome</td>\n",
       "      <td>15.1</td>\n",
       "      <td>5</td>\n",
       "      <td>32.69</td>\n",
       "    </tr>\n",
       "    <tr>\n",
       "      <th>21</th>\n",
       "      <td>Sat</td>\n",
       "      <td>Firefox</td>\n",
       "      <td>16.3</td>\n",
       "      <td>5</td>\n",
       "      <td>78.58</td>\n",
       "    </tr>\n",
       "    <tr>\n",
       "      <th>22</th>\n",
       "      <td>Tue</td>\n",
       "      <td>Chrome</td>\n",
       "      <td>10.2</td>\n",
       "      <td>6</td>\n",
       "      <td>74.43</td>\n",
       "    </tr>\n",
       "    <tr>\n",
       "      <th>23</th>\n",
       "      <td>Sun</td>\n",
       "      <td>Chrome</td>\n",
       "      <td>8.0</td>\n",
       "      <td>3</td>\n",
       "      <td>32.73</td>\n",
       "    </tr>\n",
       "    <tr>\n",
       "      <th>24</th>\n",
       "      <td>Tue</td>\n",
       "      <td>Firefox</td>\n",
       "      <td>8.0</td>\n",
       "      <td>2</td>\n",
       "      <td>48.66</td>\n",
       "    </tr>\n",
       "    <tr>\n",
       "      <th>25</th>\n",
       "      <td>Fri</td>\n",
       "      <td>Firefox</td>\n",
       "      <td>9.6</td>\n",
       "      <td>3</td>\n",
       "      <td>54.66</td>\n",
       "    </tr>\n",
       "    <tr>\n",
       "      <th>26</th>\n",
       "      <td>Wed</td>\n",
       "      <td>Chrome</td>\n",
       "      <td>11.0</td>\n",
       "      <td>2</td>\n",
       "      <td>40.54</td>\n",
       "    </tr>\n",
       "    <tr>\n",
       "      <th>27</th>\n",
       "      <td>Sat</td>\n",
       "      <td>Chrome</td>\n",
       "      <td>16.9</td>\n",
       "      <td>5</td>\n",
       "      <td>34.69</td>\n",
       "    </tr>\n",
       "    <tr>\n",
       "      <th>28</th>\n",
       "      <td>Sat</td>\n",
       "      <td>Firefox</td>\n",
       "      <td>6.0</td>\n",
       "      <td>4</td>\n",
       "      <td>27.91</td>\n",
       "    </tr>\n",
       "    <tr>\n",
       "      <th>29</th>\n",
       "      <td>Fri</td>\n",
       "      <td>Firefox</td>\n",
       "      <td>32.9</td>\n",
       "      <td>10</td>\n",
       "      <td>155.30</td>\n",
       "    </tr>\n",
       "    <tr>\n",
       "      <th>30</th>\n",
       "      <td>Mon</td>\n",
       "      <td>Other</td>\n",
       "      <td>11.8</td>\n",
       "      <td>9</td>\n",
       "      <td>120.25</td>\n",
       "    </tr>\n",
       "    <tr>\n",
       "      <th>31</th>\n",
       "      <td>Thu</td>\n",
       "      <td>Chrome</td>\n",
       "      <td>7.1</td>\n",
       "      <td>2</td>\n",
       "      <td>41.20</td>\n",
       "    </tr>\n",
       "    <tr>\n",
       "      <th>32</th>\n",
       "      <td>Fri</td>\n",
       "      <td>Firefox</td>\n",
       "      <td>18.0</td>\n",
       "      <td>8</td>\n",
       "      <td>134.40</td>\n",
       "    </tr>\n",
       "    <tr>\n",
       "      <th>33</th>\n",
       "      <td>Sun</td>\n",
       "      <td>Chrome</td>\n",
       "      <td>11.8</td>\n",
       "      <td>4</td>\n",
       "      <td>37.17</td>\n",
       "    </tr>\n",
       "    <tr>\n",
       "      <th>34</th>\n",
       "      <td>Fri</td>\n",
       "      <td>Chrome</td>\n",
       "      <td>9.1</td>\n",
       "      <td>3</td>\n",
       "      <td>52.09</td>\n",
       "    </tr>\n",
       "    <tr>\n",
       "      <th>35</th>\n",
       "      <td>Tue</td>\n",
       "      <td>Chrome</td>\n",
       "      <td>7.8</td>\n",
       "      <td>5</td>\n",
       "      <td>71.81</td>\n",
       "    </tr>\n",
       "    <tr>\n",
       "      <th>36</th>\n",
       "      <td>Mon</td>\n",
       "      <td>Firefox</td>\n",
       "      <td>16.5</td>\n",
       "      <td>5</td>\n",
       "      <td>59.99</td>\n",
       "    </tr>\n",
       "    <tr>\n",
       "      <th>37</th>\n",
       "      <td>Thu</td>\n",
       "      <td>Firefox</td>\n",
       "      <td>6.2</td>\n",
       "      <td>4</td>\n",
       "      <td>84.17</td>\n",
       "    </tr>\n",
       "    <tr>\n",
       "      <th>38</th>\n",
       "      <td>Sat</td>\n",
       "      <td>Chrome</td>\n",
       "      <td>11.3</td>\n",
       "      <td>4</td>\n",
       "      <td>55.58</td>\n",
       "    </tr>\n",
       "    <tr>\n",
       "      <th>39</th>\n",
       "      <td>Tue</td>\n",
       "      <td>Chrome</td>\n",
       "      <td>10.6</td>\n",
       "      <td>2</td>\n",
       "      <td>39.06</td>\n",
       "    </tr>\n",
       "    <tr>\n",
       "      <th>40</th>\n",
       "      <td>Wed</td>\n",
       "      <td>Chrome</td>\n",
       "      <td>5.0</td>\n",
       "      <td>5</td>\n",
       "      <td>36.48</td>\n",
       "    </tr>\n",
       "    <tr>\n",
       "      <th>41</th>\n",
       "      <td>Tue</td>\n",
       "      <td>Other</td>\n",
       "      <td>15.9</td>\n",
       "      <td>4</td>\n",
       "      <td>67.44</td>\n",
       "    </tr>\n",
       "    <tr>\n",
       "      <th>42</th>\n",
       "      <td>Sat</td>\n",
       "      <td>Chrome</td>\n",
       "      <td>18.1</td>\n",
       "      <td>7</td>\n",
       "      <td>60.14</td>\n",
       "    </tr>\n",
       "    <tr>\n",
       "      <th>43</th>\n",
       "      <td>Fri</td>\n",
       "      <td>Firefox</td>\n",
       "      <td>10.8</td>\n",
       "      <td>4</td>\n",
       "      <td>70.38</td>\n",
       "    </tr>\n",
       "    <tr>\n",
       "      <th>44</th>\n",
       "      <td>Mon</td>\n",
       "      <td>Chrome</td>\n",
       "      <td>13.3</td>\n",
       "      <td>7</td>\n",
       "      <td>110.65</td>\n",
       "    </tr>\n",
       "    <tr>\n",
       "      <th>45</th>\n",
       "      <td>Mon</td>\n",
       "      <td>Chrome</td>\n",
       "      <td>30.1</td>\n",
       "      <td>6</td>\n",
       "      <td>104.23</td>\n",
       "    </tr>\n",
       "    <tr>\n",
       "      <th>46</th>\n",
       "      <td>Fri</td>\n",
       "      <td>Firefox</td>\n",
       "      <td>13.7</td>\n",
       "      <td>4</td>\n",
       "      <td>68.17</td>\n",
       "    </tr>\n",
       "    <tr>\n",
       "      <th>47</th>\n",
       "      <td>Thu</td>\n",
       "      <td>Chrome</td>\n",
       "      <td>8.1</td>\n",
       "      <td>2</td>\n",
       "      <td>17.84</td>\n",
       "    </tr>\n",
       "    <tr>\n",
       "      <th>48</th>\n",
       "      <td>Fri</td>\n",
       "      <td>Chrome</td>\n",
       "      <td>9.7</td>\n",
       "      <td>5</td>\n",
       "      <td>103.15</td>\n",
       "    </tr>\n",
       "    <tr>\n",
       "      <th>49</th>\n",
       "      <td>Mon</td>\n",
       "      <td>Other</td>\n",
       "      <td>7.3</td>\n",
       "      <td>6</td>\n",
       "      <td>52.15</td>\n",
       "    </tr>\n",
       "    <tr>\n",
       "      <th>50</th>\n",
       "      <td>Fri</td>\n",
       "      <td>Chrome</td>\n",
       "      <td>13.4</td>\n",
       "      <td>3</td>\n",
       "      <td>98.75</td>\n",
       "    </tr>\n",
       "  </tbody>\n",
       "</table>\n",
       "</div>"
      ],
      "text/plain": [
       "          Day  Browser  Time (min)  Pages Viewed  Amount Spent ($)\n",
       "Customer                                                          \n",
       "1         Mon   Chrome        12.0             4             54.52\n",
       "2         Wed    Other        19.5             6             94.90\n",
       "3         Mon   Chrome         8.5             4             26.68\n",
       "4         Tue  Firefox        11.4             2             44.73\n",
       "5         Wed   Chrome        11.3             4             66.27\n",
       "6         Sat  Firefox        10.5             6             67.80\n",
       "7         Sun   Chrome        11.4             2             36.04\n",
       "8         Fri  Firefox         4.3             6             55.96\n",
       "9         Wed  Firefox        12.7             3             70.94\n",
       "10        Tue   Chrome        24.7             7             68.73\n",
       "11        Sat    Other        13.3             6             54.04\n",
       "12        Sun  Firefox        14.3             5             48.05\n",
       "13        Sun    Other        11.7             7             64.16\n",
       "14        Mon  Firefox        24.4            10            158.51\n",
       "15        Fri   Chrome         8.4             3             84.12\n",
       "16        Thu   Chrome         9.6             4             59.20\n",
       "17        Thu   Chrome        23.3             7             91.62\n",
       "18        Mon   Chrome        14.0             7            126.40\n",
       "19        Fri    Other         5.6             4             68.45\n",
       "20        Wed   Chrome        15.1             5             32.69\n",
       "21        Sat  Firefox        16.3             5             78.58\n",
       "22        Tue   Chrome        10.2             6             74.43\n",
       "23        Sun   Chrome         8.0             3             32.73\n",
       "24        Tue  Firefox         8.0             2             48.66\n",
       "25        Fri  Firefox         9.6             3             54.66\n",
       "26        Wed   Chrome        11.0             2             40.54\n",
       "27        Sat   Chrome        16.9             5             34.69\n",
       "28        Sat  Firefox         6.0             4             27.91\n",
       "29        Fri  Firefox        32.9            10            155.30\n",
       "30        Mon    Other        11.8             9            120.25\n",
       "31        Thu   Chrome         7.1             2             41.20\n",
       "32        Fri  Firefox        18.0             8            134.40\n",
       "33        Sun   Chrome        11.8             4             37.17\n",
       "34        Fri   Chrome         9.1             3             52.09\n",
       "35        Tue   Chrome         7.8             5             71.81\n",
       "36        Mon  Firefox        16.5             5             59.99\n",
       "37        Thu  Firefox         6.2             4             84.17\n",
       "38        Sat   Chrome        11.3             4             55.58\n",
       "39        Tue   Chrome        10.6             2             39.06\n",
       "40        Wed   Chrome         5.0             5             36.48\n",
       "41        Tue    Other        15.9             4             67.44\n",
       "42        Sat   Chrome        18.1             7             60.14\n",
       "43        Fri  Firefox        10.8             4             70.38\n",
       "44        Mon   Chrome        13.3             7            110.65\n",
       "45        Mon   Chrome        30.1             6            104.23\n",
       "46        Fri  Firefox        13.7             4             68.17\n",
       "47        Thu   Chrome         8.1             2             17.84\n",
       "48        Fri   Chrome         9.7             5            103.15\n",
       "49        Mon    Other         7.3             6             52.15\n",
       "50        Fri   Chrome        13.4             3             98.75"
      ]
     },
     "execution_count": 4,
     "metadata": {},
     "output_type": "execute_result"
    }
   ],
   "source": [
    "pd.read_excel('HeavenlyChocolates.xlsx', index_col=0) "
   ]
  },
  {
   "cell_type": "code",
   "execution_count": 5,
   "metadata": {},
   "outputs": [],
   "source": [
    "transactions_table = pd.read_excel('HeavenlyChocolates.xlsx', header=0, index_col=0) "
   ]
  },
  {
   "cell_type": "code",
   "execution_count": 6,
   "metadata": {},
   "outputs": [
    {
     "data": {
      "text/plain": [
       "Customer\n",
       "1      Chrome\n",
       "2       Other\n",
       "3      Chrome\n",
       "4     Firefox\n",
       "5      Chrome\n",
       "6     Firefox\n",
       "7      Chrome\n",
       "8     Firefox\n",
       "9     Firefox\n",
       "10     Chrome\n",
       "11      Other\n",
       "12    Firefox\n",
       "13      Other\n",
       "14    Firefox\n",
       "15     Chrome\n",
       "16     Chrome\n",
       "17     Chrome\n",
       "18     Chrome\n",
       "19      Other\n",
       "20     Chrome\n",
       "21    Firefox\n",
       "22     Chrome\n",
       "23     Chrome\n",
       "24    Firefox\n",
       "25    Firefox\n",
       "26     Chrome\n",
       "27     Chrome\n",
       "28    Firefox\n",
       "29    Firefox\n",
       "30      Other\n",
       "31     Chrome\n",
       "32    Firefox\n",
       "33     Chrome\n",
       "34     Chrome\n",
       "35     Chrome\n",
       "36    Firefox\n",
       "37    Firefox\n",
       "38     Chrome\n",
       "39     Chrome\n",
       "40     Chrome\n",
       "41      Other\n",
       "42     Chrome\n",
       "43    Firefox\n",
       "44     Chrome\n",
       "45     Chrome\n",
       "46    Firefox\n",
       "47     Chrome\n",
       "48     Chrome\n",
       "49      Other\n",
       "50     Chrome\n",
       "Name: Browser, dtype: object"
      ]
     },
     "execution_count": 6,
     "metadata": {},
     "output_type": "execute_result"
    }
   ],
   "source": [
    "transactions_table[\"Browser\"]"
   ]
  },
  {
   "cell_type": "code",
   "execution_count": 7,
   "metadata": {},
   "outputs": [
    {
     "data": {
      "text/html": [
       "<div>\n",
       "<style scoped>\n",
       "    .dataframe tbody tr th:only-of-type {\n",
       "        vertical-align: middle;\n",
       "    }\n",
       "\n",
       "    .dataframe tbody tr th {\n",
       "        vertical-align: top;\n",
       "    }\n",
       "\n",
       "    .dataframe thead th {\n",
       "        text-align: right;\n",
       "    }\n",
       "</style>\n",
       "<table border=\"1\" class=\"dataframe\">\n",
       "  <thead>\n",
       "    <tr style=\"text-align: right;\">\n",
       "      <th></th>\n",
       "      <th>Day</th>\n",
       "      <th>Browser</th>\n",
       "      <th>Time (min)</th>\n",
       "      <th>Pages Viewed</th>\n",
       "      <th>Amount Spent ($)</th>\n",
       "    </tr>\n",
       "    <tr>\n",
       "      <th>Customer</th>\n",
       "      <th></th>\n",
       "      <th></th>\n",
       "      <th></th>\n",
       "      <th></th>\n",
       "      <th></th>\n",
       "    </tr>\n",
       "  </thead>\n",
       "  <tbody>\n",
       "    <tr>\n",
       "      <th>1</th>\n",
       "      <td>Mon</td>\n",
       "      <td>Chrome</td>\n",
       "      <td>12.0</td>\n",
       "      <td>4</td>\n",
       "      <td>54.52</td>\n",
       "    </tr>\n",
       "    <tr>\n",
       "      <th>2</th>\n",
       "      <td>Wed</td>\n",
       "      <td>Other</td>\n",
       "      <td>19.5</td>\n",
       "      <td>6</td>\n",
       "      <td>94.90</td>\n",
       "    </tr>\n",
       "    <tr>\n",
       "      <th>3</th>\n",
       "      <td>Mon</td>\n",
       "      <td>Chrome</td>\n",
       "      <td>8.5</td>\n",
       "      <td>4</td>\n",
       "      <td>26.68</td>\n",
       "    </tr>\n",
       "    <tr>\n",
       "      <th>4</th>\n",
       "      <td>Tue</td>\n",
       "      <td>Firefox</td>\n",
       "      <td>11.4</td>\n",
       "      <td>2</td>\n",
       "      <td>44.73</td>\n",
       "    </tr>\n",
       "    <tr>\n",
       "      <th>5</th>\n",
       "      <td>Wed</td>\n",
       "      <td>Chrome</td>\n",
       "      <td>11.3</td>\n",
       "      <td>4</td>\n",
       "      <td>66.27</td>\n",
       "    </tr>\n",
       "    <tr>\n",
       "      <th>6</th>\n",
       "      <td>Sat</td>\n",
       "      <td>Firefox</td>\n",
       "      <td>10.5</td>\n",
       "      <td>6</td>\n",
       "      <td>67.80</td>\n",
       "    </tr>\n",
       "    <tr>\n",
       "      <th>7</th>\n",
       "      <td>Sun</td>\n",
       "      <td>Chrome</td>\n",
       "      <td>11.4</td>\n",
       "      <td>2</td>\n",
       "      <td>36.04</td>\n",
       "    </tr>\n",
       "    <tr>\n",
       "      <th>8</th>\n",
       "      <td>Fri</td>\n",
       "      <td>Firefox</td>\n",
       "      <td>4.3</td>\n",
       "      <td>6</td>\n",
       "      <td>55.96</td>\n",
       "    </tr>\n",
       "    <tr>\n",
       "      <th>9</th>\n",
       "      <td>Wed</td>\n",
       "      <td>Firefox</td>\n",
       "      <td>12.7</td>\n",
       "      <td>3</td>\n",
       "      <td>70.94</td>\n",
       "    </tr>\n",
       "    <tr>\n",
       "      <th>10</th>\n",
       "      <td>Tue</td>\n",
       "      <td>Chrome</td>\n",
       "      <td>24.7</td>\n",
       "      <td>7</td>\n",
       "      <td>68.73</td>\n",
       "    </tr>\n",
       "  </tbody>\n",
       "</table>\n",
       "</div>"
      ],
      "text/plain": [
       "          Day  Browser  Time (min)  Pages Viewed  Amount Spent ($)\n",
       "Customer                                                          \n",
       "1         Mon   Chrome        12.0             4             54.52\n",
       "2         Wed    Other        19.5             6             94.90\n",
       "3         Mon   Chrome         8.5             4             26.68\n",
       "4         Tue  Firefox        11.4             2             44.73\n",
       "5         Wed   Chrome        11.3             4             66.27\n",
       "6         Sat  Firefox        10.5             6             67.80\n",
       "7         Sun   Chrome        11.4             2             36.04\n",
       "8         Fri  Firefox         4.3             6             55.96\n",
       "9         Wed  Firefox        12.7             3             70.94\n",
       "10        Tue   Chrome        24.7             7             68.73"
      ]
     },
     "execution_count": 7,
     "metadata": {},
     "output_type": "execute_result"
    }
   ],
   "source": [
    "transactions_table.head(10)"
   ]
  },
  {
   "cell_type": "code",
   "execution_count": 8,
   "metadata": {},
   "outputs": [
    {
     "data": {
      "text/html": [
       "<div>\n",
       "<style scoped>\n",
       "    .dataframe tbody tr th:only-of-type {\n",
       "        vertical-align: middle;\n",
       "    }\n",
       "\n",
       "    .dataframe tbody tr th {\n",
       "        vertical-align: top;\n",
       "    }\n",
       "\n",
       "    .dataframe thead th {\n",
       "        text-align: right;\n",
       "    }\n",
       "</style>\n",
       "<table border=\"1\" class=\"dataframe\">\n",
       "  <thead>\n",
       "    <tr style=\"text-align: right;\">\n",
       "      <th></th>\n",
       "      <th>Time (min)</th>\n",
       "      <th>Pages Viewed</th>\n",
       "      <th>Amount Spent ($)</th>\n",
       "    </tr>\n",
       "  </thead>\n",
       "  <tbody>\n",
       "    <tr>\n",
       "      <th>count</th>\n",
       "      <td>50.000000</td>\n",
       "      <td>50.000000</td>\n",
       "      <td>50.000000</td>\n",
       "    </tr>\n",
       "    <tr>\n",
       "      <th>mean</th>\n",
       "      <td>12.810000</td>\n",
       "      <td>4.820000</td>\n",
       "      <td>68.128200</td>\n",
       "    </tr>\n",
       "    <tr>\n",
       "      <th>std</th>\n",
       "      <td>6.063314</td>\n",
       "      <td>2.037305</td>\n",
       "      <td>32.343758</td>\n",
       "    </tr>\n",
       "    <tr>\n",
       "      <th>min</th>\n",
       "      <td>4.300000</td>\n",
       "      <td>2.000000</td>\n",
       "      <td>17.840000</td>\n",
       "    </tr>\n",
       "    <tr>\n",
       "      <th>25%</th>\n",
       "      <td>8.650000</td>\n",
       "      <td>3.250000</td>\n",
       "      <td>45.560000</td>\n",
       "    </tr>\n",
       "    <tr>\n",
       "      <th>50%</th>\n",
       "      <td>11.400000</td>\n",
       "      <td>4.500000</td>\n",
       "      <td>62.150000</td>\n",
       "    </tr>\n",
       "    <tr>\n",
       "      <th>75%</th>\n",
       "      <td>14.900000</td>\n",
       "      <td>6.000000</td>\n",
       "      <td>82.735000</td>\n",
       "    </tr>\n",
       "    <tr>\n",
       "      <th>max</th>\n",
       "      <td>32.900000</td>\n",
       "      <td>10.000000</td>\n",
       "      <td>158.510000</td>\n",
       "    </tr>\n",
       "  </tbody>\n",
       "</table>\n",
       "</div>"
      ],
      "text/plain": [
       "       Time (min)  Pages Viewed  Amount Spent ($)\n",
       "count   50.000000     50.000000         50.000000\n",
       "mean    12.810000      4.820000         68.128200\n",
       "std      6.063314      2.037305         32.343758\n",
       "min      4.300000      2.000000         17.840000\n",
       "25%      8.650000      3.250000         45.560000\n",
       "50%     11.400000      4.500000         62.150000\n",
       "75%     14.900000      6.000000         82.735000\n",
       "max     32.900000     10.000000        158.510000"
      ]
     },
     "execution_count": 8,
     "metadata": {},
     "output_type": "execute_result"
    }
   ],
   "source": [
    "transactions_table.describe()"
   ]
  },
  {
   "cell_type": "code",
   "execution_count": 9,
   "metadata": {},
   "outputs": [
    {
     "data": {
      "text/plain": [
       "4.82"
      ]
     },
     "execution_count": 9,
     "metadata": {},
     "output_type": "execute_result"
    }
   ],
   "source": [
    "transactions_table['Pages Viewed'].mean()"
   ]
  },
  {
   "cell_type": "code",
   "execution_count": 10,
   "metadata": {},
   "outputs": [
    {
     "data": {
      "text/plain": [
       "4.5"
      ]
     },
     "execution_count": 10,
     "metadata": {},
     "output_type": "execute_result"
    }
   ],
   "source": [
    "transactions_table['Pages Viewed'].median()"
   ]
  },
  {
   "cell_type": "markdown",
   "metadata": {},
   "source": [
    "Instead of the predefined statistics, specific combinations of aggregating statistics for given columns can be defined using the DataFrame.agg() method."
   ]
  },
  {
   "cell_type": "code",
   "execution_count": 11,
   "metadata": {},
   "outputs": [
    {
     "data": {
      "text/html": [
       "<div>\n",
       "<style scoped>\n",
       "    .dataframe tbody tr th:only-of-type {\n",
       "        vertical-align: middle;\n",
       "    }\n",
       "\n",
       "    .dataframe tbody tr th {\n",
       "        vertical-align: top;\n",
       "    }\n",
       "\n",
       "    .dataframe thead th {\n",
       "        text-align: right;\n",
       "    }\n",
       "</style>\n",
       "<table border=\"1\" class=\"dataframe\">\n",
       "  <thead>\n",
       "    <tr style=\"text-align: right;\">\n",
       "      <th></th>\n",
       "      <th>Time (min)</th>\n",
       "      <th>Pages Viewed</th>\n",
       "    </tr>\n",
       "  </thead>\n",
       "  <tbody>\n",
       "    <tr>\n",
       "      <th>min</th>\n",
       "      <td>4.300000</td>\n",
       "      <td>2.00000</td>\n",
       "    </tr>\n",
       "    <tr>\n",
       "      <th>max</th>\n",
       "      <td>32.900000</td>\n",
       "      <td>10.00000</td>\n",
       "    </tr>\n",
       "    <tr>\n",
       "      <th>median</th>\n",
       "      <td>11.400000</td>\n",
       "      <td>4.50000</td>\n",
       "    </tr>\n",
       "    <tr>\n",
       "      <th>skew</th>\n",
       "      <td>1.449832</td>\n",
       "      <td>0.64639</td>\n",
       "    </tr>\n",
       "  </tbody>\n",
       "</table>\n",
       "</div>"
      ],
      "text/plain": [
       "        Time (min)  Pages Viewed\n",
       "min       4.300000       2.00000\n",
       "max      32.900000      10.00000\n",
       "median   11.400000       4.50000\n",
       "skew      1.449832       0.64639"
      ]
     },
     "execution_count": 11,
     "metadata": {},
     "output_type": "execute_result"
    }
   ],
   "source": [
    "transactions_table.agg(\n",
    "    {\n",
    "        \"Time (min)\": [\"min\", \"max\", \"median\", \"skew\"],\n",
    "        \"Pages Viewed\": [\"min\", \"max\", \"median\", \"skew\"]\n",
    "    }\n",
    ")"
   ]
  },
  {
   "cell_type": "markdown",
   "metadata": {},
   "source": [
    "## Select a subset of a DataFrame"
   ]
  },
  {
   "cell_type": "code",
   "execution_count": 12,
   "metadata": {
    "scrolled": true
   },
   "outputs": [
    {
     "data": {
      "text/html": [
       "<div>\n",
       "<style scoped>\n",
       "    .dataframe tbody tr th:only-of-type {\n",
       "        vertical-align: middle;\n",
       "    }\n",
       "\n",
       "    .dataframe tbody tr th {\n",
       "        vertical-align: top;\n",
       "    }\n",
       "\n",
       "    .dataframe thead th {\n",
       "        text-align: right;\n",
       "    }\n",
       "</style>\n",
       "<table border=\"1\" class=\"dataframe\">\n",
       "  <thead>\n",
       "    <tr style=\"text-align: right;\">\n",
       "      <th></th>\n",
       "      <th>Day</th>\n",
       "      <th>Browser</th>\n",
       "      <th>Time (min)</th>\n",
       "      <th>Pages Viewed</th>\n",
       "      <th>Amount Spent ($)</th>\n",
       "    </tr>\n",
       "    <tr>\n",
       "      <th>Customer</th>\n",
       "      <th></th>\n",
       "      <th></th>\n",
       "      <th></th>\n",
       "      <th></th>\n",
       "      <th></th>\n",
       "    </tr>\n",
       "  </thead>\n",
       "  <tbody>\n",
       "    <tr>\n",
       "      <th>1</th>\n",
       "      <td>Mon</td>\n",
       "      <td>Chrome</td>\n",
       "      <td>12.0</td>\n",
       "      <td>4</td>\n",
       "      <td>54.52</td>\n",
       "    </tr>\n",
       "    <tr>\n",
       "      <th>2</th>\n",
       "      <td>Wed</td>\n",
       "      <td>Other</td>\n",
       "      <td>19.5</td>\n",
       "      <td>6</td>\n",
       "      <td>94.90</td>\n",
       "    </tr>\n",
       "    <tr>\n",
       "      <th>3</th>\n",
       "      <td>Mon</td>\n",
       "      <td>Chrome</td>\n",
       "      <td>8.5</td>\n",
       "      <td>4</td>\n",
       "      <td>26.68</td>\n",
       "    </tr>\n",
       "    <tr>\n",
       "      <th>4</th>\n",
       "      <td>Tue</td>\n",
       "      <td>Firefox</td>\n",
       "      <td>11.4</td>\n",
       "      <td>2</td>\n",
       "      <td>44.73</td>\n",
       "    </tr>\n",
       "    <tr>\n",
       "      <th>5</th>\n",
       "      <td>Wed</td>\n",
       "      <td>Chrome</td>\n",
       "      <td>11.3</td>\n",
       "      <td>4</td>\n",
       "      <td>66.27</td>\n",
       "    </tr>\n",
       "    <tr>\n",
       "      <th>6</th>\n",
       "      <td>Sat</td>\n",
       "      <td>Firefox</td>\n",
       "      <td>10.5</td>\n",
       "      <td>6</td>\n",
       "      <td>67.80</td>\n",
       "    </tr>\n",
       "    <tr>\n",
       "      <th>7</th>\n",
       "      <td>Sun</td>\n",
       "      <td>Chrome</td>\n",
       "      <td>11.4</td>\n",
       "      <td>2</td>\n",
       "      <td>36.04</td>\n",
       "    </tr>\n",
       "    <tr>\n",
       "      <th>8</th>\n",
       "      <td>Fri</td>\n",
       "      <td>Firefox</td>\n",
       "      <td>4.3</td>\n",
       "      <td>6</td>\n",
       "      <td>55.96</td>\n",
       "    </tr>\n",
       "    <tr>\n",
       "      <th>9</th>\n",
       "      <td>Wed</td>\n",
       "      <td>Firefox</td>\n",
       "      <td>12.7</td>\n",
       "      <td>3</td>\n",
       "      <td>70.94</td>\n",
       "    </tr>\n",
       "    <tr>\n",
       "      <th>10</th>\n",
       "      <td>Tue</td>\n",
       "      <td>Chrome</td>\n",
       "      <td>24.7</td>\n",
       "      <td>7</td>\n",
       "      <td>68.73</td>\n",
       "    </tr>\n",
       "    <tr>\n",
       "      <th>11</th>\n",
       "      <td>Sat</td>\n",
       "      <td>Other</td>\n",
       "      <td>13.3</td>\n",
       "      <td>6</td>\n",
       "      <td>54.04</td>\n",
       "    </tr>\n",
       "    <tr>\n",
       "      <th>12</th>\n",
       "      <td>Sun</td>\n",
       "      <td>Firefox</td>\n",
       "      <td>14.3</td>\n",
       "      <td>5</td>\n",
       "      <td>48.05</td>\n",
       "    </tr>\n",
       "    <tr>\n",
       "      <th>13</th>\n",
       "      <td>Sun</td>\n",
       "      <td>Other</td>\n",
       "      <td>11.7</td>\n",
       "      <td>7</td>\n",
       "      <td>64.16</td>\n",
       "    </tr>\n",
       "    <tr>\n",
       "      <th>14</th>\n",
       "      <td>Mon</td>\n",
       "      <td>Firefox</td>\n",
       "      <td>24.4</td>\n",
       "      <td>10</td>\n",
       "      <td>158.51</td>\n",
       "    </tr>\n",
       "    <tr>\n",
       "      <th>15</th>\n",
       "      <td>Fri</td>\n",
       "      <td>Chrome</td>\n",
       "      <td>8.4</td>\n",
       "      <td>3</td>\n",
       "      <td>84.12</td>\n",
       "    </tr>\n",
       "    <tr>\n",
       "      <th>16</th>\n",
       "      <td>Thu</td>\n",
       "      <td>Chrome</td>\n",
       "      <td>9.6</td>\n",
       "      <td>4</td>\n",
       "      <td>59.20</td>\n",
       "    </tr>\n",
       "    <tr>\n",
       "      <th>17</th>\n",
       "      <td>Thu</td>\n",
       "      <td>Chrome</td>\n",
       "      <td>23.3</td>\n",
       "      <td>7</td>\n",
       "      <td>91.62</td>\n",
       "    </tr>\n",
       "    <tr>\n",
       "      <th>18</th>\n",
       "      <td>Mon</td>\n",
       "      <td>Chrome</td>\n",
       "      <td>14.0</td>\n",
       "      <td>7</td>\n",
       "      <td>126.40</td>\n",
       "    </tr>\n",
       "    <tr>\n",
       "      <th>19</th>\n",
       "      <td>Fri</td>\n",
       "      <td>Other</td>\n",
       "      <td>5.6</td>\n",
       "      <td>4</td>\n",
       "      <td>68.45</td>\n",
       "    </tr>\n",
       "    <tr>\n",
       "      <th>20</th>\n",
       "      <td>Wed</td>\n",
       "      <td>Chrome</td>\n",
       "      <td>15.1</td>\n",
       "      <td>5</td>\n",
       "      <td>32.69</td>\n",
       "    </tr>\n",
       "    <tr>\n",
       "      <th>21</th>\n",
       "      <td>Sat</td>\n",
       "      <td>Firefox</td>\n",
       "      <td>16.3</td>\n",
       "      <td>5</td>\n",
       "      <td>78.58</td>\n",
       "    </tr>\n",
       "    <tr>\n",
       "      <th>22</th>\n",
       "      <td>Tue</td>\n",
       "      <td>Chrome</td>\n",
       "      <td>10.2</td>\n",
       "      <td>6</td>\n",
       "      <td>74.43</td>\n",
       "    </tr>\n",
       "    <tr>\n",
       "      <th>23</th>\n",
       "      <td>Sun</td>\n",
       "      <td>Chrome</td>\n",
       "      <td>8.0</td>\n",
       "      <td>3</td>\n",
       "      <td>32.73</td>\n",
       "    </tr>\n",
       "    <tr>\n",
       "      <th>24</th>\n",
       "      <td>Tue</td>\n",
       "      <td>Firefox</td>\n",
       "      <td>8.0</td>\n",
       "      <td>2</td>\n",
       "      <td>48.66</td>\n",
       "    </tr>\n",
       "    <tr>\n",
       "      <th>25</th>\n",
       "      <td>Fri</td>\n",
       "      <td>Firefox</td>\n",
       "      <td>9.6</td>\n",
       "      <td>3</td>\n",
       "      <td>54.66</td>\n",
       "    </tr>\n",
       "    <tr>\n",
       "      <th>26</th>\n",
       "      <td>Wed</td>\n",
       "      <td>Chrome</td>\n",
       "      <td>11.0</td>\n",
       "      <td>2</td>\n",
       "      <td>40.54</td>\n",
       "    </tr>\n",
       "    <tr>\n",
       "      <th>27</th>\n",
       "      <td>Sat</td>\n",
       "      <td>Chrome</td>\n",
       "      <td>16.9</td>\n",
       "      <td>5</td>\n",
       "      <td>34.69</td>\n",
       "    </tr>\n",
       "    <tr>\n",
       "      <th>28</th>\n",
       "      <td>Sat</td>\n",
       "      <td>Firefox</td>\n",
       "      <td>6.0</td>\n",
       "      <td>4</td>\n",
       "      <td>27.91</td>\n",
       "    </tr>\n",
       "    <tr>\n",
       "      <th>29</th>\n",
       "      <td>Fri</td>\n",
       "      <td>Firefox</td>\n",
       "      <td>32.9</td>\n",
       "      <td>10</td>\n",
       "      <td>155.30</td>\n",
       "    </tr>\n",
       "    <tr>\n",
       "      <th>30</th>\n",
       "      <td>Mon</td>\n",
       "      <td>Other</td>\n",
       "      <td>11.8</td>\n",
       "      <td>9</td>\n",
       "      <td>120.25</td>\n",
       "    </tr>\n",
       "    <tr>\n",
       "      <th>31</th>\n",
       "      <td>Thu</td>\n",
       "      <td>Chrome</td>\n",
       "      <td>7.1</td>\n",
       "      <td>2</td>\n",
       "      <td>41.20</td>\n",
       "    </tr>\n",
       "    <tr>\n",
       "      <th>32</th>\n",
       "      <td>Fri</td>\n",
       "      <td>Firefox</td>\n",
       "      <td>18.0</td>\n",
       "      <td>8</td>\n",
       "      <td>134.40</td>\n",
       "    </tr>\n",
       "    <tr>\n",
       "      <th>33</th>\n",
       "      <td>Sun</td>\n",
       "      <td>Chrome</td>\n",
       "      <td>11.8</td>\n",
       "      <td>4</td>\n",
       "      <td>37.17</td>\n",
       "    </tr>\n",
       "    <tr>\n",
       "      <th>34</th>\n",
       "      <td>Fri</td>\n",
       "      <td>Chrome</td>\n",
       "      <td>9.1</td>\n",
       "      <td>3</td>\n",
       "      <td>52.09</td>\n",
       "    </tr>\n",
       "    <tr>\n",
       "      <th>35</th>\n",
       "      <td>Tue</td>\n",
       "      <td>Chrome</td>\n",
       "      <td>7.8</td>\n",
       "      <td>5</td>\n",
       "      <td>71.81</td>\n",
       "    </tr>\n",
       "    <tr>\n",
       "      <th>36</th>\n",
       "      <td>Mon</td>\n",
       "      <td>Firefox</td>\n",
       "      <td>16.5</td>\n",
       "      <td>5</td>\n",
       "      <td>59.99</td>\n",
       "    </tr>\n",
       "    <tr>\n",
       "      <th>37</th>\n",
       "      <td>Thu</td>\n",
       "      <td>Firefox</td>\n",
       "      <td>6.2</td>\n",
       "      <td>4</td>\n",
       "      <td>84.17</td>\n",
       "    </tr>\n",
       "    <tr>\n",
       "      <th>38</th>\n",
       "      <td>Sat</td>\n",
       "      <td>Chrome</td>\n",
       "      <td>11.3</td>\n",
       "      <td>4</td>\n",
       "      <td>55.58</td>\n",
       "    </tr>\n",
       "    <tr>\n",
       "      <th>39</th>\n",
       "      <td>Tue</td>\n",
       "      <td>Chrome</td>\n",
       "      <td>10.6</td>\n",
       "      <td>2</td>\n",
       "      <td>39.06</td>\n",
       "    </tr>\n",
       "    <tr>\n",
       "      <th>40</th>\n",
       "      <td>Wed</td>\n",
       "      <td>Chrome</td>\n",
       "      <td>5.0</td>\n",
       "      <td>5</td>\n",
       "      <td>36.48</td>\n",
       "    </tr>\n",
       "    <tr>\n",
       "      <th>41</th>\n",
       "      <td>Tue</td>\n",
       "      <td>Other</td>\n",
       "      <td>15.9</td>\n",
       "      <td>4</td>\n",
       "      <td>67.44</td>\n",
       "    </tr>\n",
       "    <tr>\n",
       "      <th>42</th>\n",
       "      <td>Sat</td>\n",
       "      <td>Chrome</td>\n",
       "      <td>18.1</td>\n",
       "      <td>7</td>\n",
       "      <td>60.14</td>\n",
       "    </tr>\n",
       "    <tr>\n",
       "      <th>43</th>\n",
       "      <td>Fri</td>\n",
       "      <td>Firefox</td>\n",
       "      <td>10.8</td>\n",
       "      <td>4</td>\n",
       "      <td>70.38</td>\n",
       "    </tr>\n",
       "    <tr>\n",
       "      <th>44</th>\n",
       "      <td>Mon</td>\n",
       "      <td>Chrome</td>\n",
       "      <td>13.3</td>\n",
       "      <td>7</td>\n",
       "      <td>110.65</td>\n",
       "    </tr>\n",
       "    <tr>\n",
       "      <th>45</th>\n",
       "      <td>Mon</td>\n",
       "      <td>Chrome</td>\n",
       "      <td>30.1</td>\n",
       "      <td>6</td>\n",
       "      <td>104.23</td>\n",
       "    </tr>\n",
       "    <tr>\n",
       "      <th>46</th>\n",
       "      <td>Fri</td>\n",
       "      <td>Firefox</td>\n",
       "      <td>13.7</td>\n",
       "      <td>4</td>\n",
       "      <td>68.17</td>\n",
       "    </tr>\n",
       "    <tr>\n",
       "      <th>47</th>\n",
       "      <td>Thu</td>\n",
       "      <td>Chrome</td>\n",
       "      <td>8.1</td>\n",
       "      <td>2</td>\n",
       "      <td>17.84</td>\n",
       "    </tr>\n",
       "    <tr>\n",
       "      <th>48</th>\n",
       "      <td>Fri</td>\n",
       "      <td>Chrome</td>\n",
       "      <td>9.7</td>\n",
       "      <td>5</td>\n",
       "      <td>103.15</td>\n",
       "    </tr>\n",
       "    <tr>\n",
       "      <th>49</th>\n",
       "      <td>Mon</td>\n",
       "      <td>Other</td>\n",
       "      <td>7.3</td>\n",
       "      <td>6</td>\n",
       "      <td>52.15</td>\n",
       "    </tr>\n",
       "    <tr>\n",
       "      <th>50</th>\n",
       "      <td>Fri</td>\n",
       "      <td>Chrome</td>\n",
       "      <td>13.4</td>\n",
       "      <td>3</td>\n",
       "      <td>98.75</td>\n",
       "    </tr>\n",
       "  </tbody>\n",
       "</table>\n",
       "</div>"
      ],
      "text/plain": [
       "          Day  Browser  Time (min)  Pages Viewed  Amount Spent ($)\n",
       "Customer                                                          \n",
       "1         Mon   Chrome        12.0             4             54.52\n",
       "2         Wed    Other        19.5             6             94.90\n",
       "3         Mon   Chrome         8.5             4             26.68\n",
       "4         Tue  Firefox        11.4             2             44.73\n",
       "5         Wed   Chrome        11.3             4             66.27\n",
       "6         Sat  Firefox        10.5             6             67.80\n",
       "7         Sun   Chrome        11.4             2             36.04\n",
       "8         Fri  Firefox         4.3             6             55.96\n",
       "9         Wed  Firefox        12.7             3             70.94\n",
       "10        Tue   Chrome        24.7             7             68.73\n",
       "11        Sat    Other        13.3             6             54.04\n",
       "12        Sun  Firefox        14.3             5             48.05\n",
       "13        Sun    Other        11.7             7             64.16\n",
       "14        Mon  Firefox        24.4            10            158.51\n",
       "15        Fri   Chrome         8.4             3             84.12\n",
       "16        Thu   Chrome         9.6             4             59.20\n",
       "17        Thu   Chrome        23.3             7             91.62\n",
       "18        Mon   Chrome        14.0             7            126.40\n",
       "19        Fri    Other         5.6             4             68.45\n",
       "20        Wed   Chrome        15.1             5             32.69\n",
       "21        Sat  Firefox        16.3             5             78.58\n",
       "22        Tue   Chrome        10.2             6             74.43\n",
       "23        Sun   Chrome         8.0             3             32.73\n",
       "24        Tue  Firefox         8.0             2             48.66\n",
       "25        Fri  Firefox         9.6             3             54.66\n",
       "26        Wed   Chrome        11.0             2             40.54\n",
       "27        Sat   Chrome        16.9             5             34.69\n",
       "28        Sat  Firefox         6.0             4             27.91\n",
       "29        Fri  Firefox        32.9            10            155.30\n",
       "30        Mon    Other        11.8             9            120.25\n",
       "31        Thu   Chrome         7.1             2             41.20\n",
       "32        Fri  Firefox        18.0             8            134.40\n",
       "33        Sun   Chrome        11.8             4             37.17\n",
       "34        Fri   Chrome         9.1             3             52.09\n",
       "35        Tue   Chrome         7.8             5             71.81\n",
       "36        Mon  Firefox        16.5             5             59.99\n",
       "37        Thu  Firefox         6.2             4             84.17\n",
       "38        Sat   Chrome        11.3             4             55.58\n",
       "39        Tue   Chrome        10.6             2             39.06\n",
       "40        Wed   Chrome         5.0             5             36.48\n",
       "41        Tue    Other        15.9             4             67.44\n",
       "42        Sat   Chrome        18.1             7             60.14\n",
       "43        Fri  Firefox        10.8             4             70.38\n",
       "44        Mon   Chrome        13.3             7            110.65\n",
       "45        Mon   Chrome        30.1             6            104.23\n",
       "46        Fri  Firefox        13.7             4             68.17\n",
       "47        Thu   Chrome         8.1             2             17.84\n",
       "48        Fri   Chrome         9.7             5            103.15\n",
       "49        Mon    Other         7.3             6             52.15\n",
       "50        Fri   Chrome        13.4             3             98.75"
      ]
     },
     "execution_count": 12,
     "metadata": {},
     "output_type": "execute_result"
    }
   ],
   "source": [
    "transactions_table"
   ]
  },
  {
   "cell_type": "code",
   "execution_count": 13,
   "metadata": {
    "scrolled": true
   },
   "outputs": [
    {
     "data": {
      "text/plain": [
       "Customer\n",
       "1    Mon\n",
       "2    Wed\n",
       "3    Mon\n",
       "4    Tue\n",
       "5    Wed\n",
       "Name: Day, dtype: object"
      ]
     },
     "execution_count": 13,
     "metadata": {},
     "output_type": "execute_result"
    }
   ],
   "source": [
    "transactions_table['Day'].head()"
   ]
  },
  {
   "cell_type": "code",
   "execution_count": 14,
   "metadata": {},
   "outputs": [
    {
     "data": {
      "text/plain": [
       "(50,)"
      ]
     },
     "execution_count": 14,
     "metadata": {},
     "output_type": "execute_result"
    }
   ],
   "source": [
    "transactions_table['Day'].shape"
   ]
  },
  {
   "cell_type": "code",
   "execution_count": 15,
   "metadata": {},
   "outputs": [
    {
     "data": {
      "text/html": [
       "<div>\n",
       "<style scoped>\n",
       "    .dataframe tbody tr th:only-of-type {\n",
       "        vertical-align: middle;\n",
       "    }\n",
       "\n",
       "    .dataframe tbody tr th {\n",
       "        vertical-align: top;\n",
       "    }\n",
       "\n",
       "    .dataframe thead th {\n",
       "        text-align: right;\n",
       "    }\n",
       "</style>\n",
       "<table border=\"1\" class=\"dataframe\">\n",
       "  <thead>\n",
       "    <tr style=\"text-align: right;\">\n",
       "      <th></th>\n",
       "      <th>Day</th>\n",
       "      <th>Browser</th>\n",
       "    </tr>\n",
       "    <tr>\n",
       "      <th>Customer</th>\n",
       "      <th></th>\n",
       "      <th></th>\n",
       "    </tr>\n",
       "  </thead>\n",
       "  <tbody>\n",
       "    <tr>\n",
       "      <th>1</th>\n",
       "      <td>Mon</td>\n",
       "      <td>Chrome</td>\n",
       "    </tr>\n",
       "    <tr>\n",
       "      <th>2</th>\n",
       "      <td>Wed</td>\n",
       "      <td>Other</td>\n",
       "    </tr>\n",
       "    <tr>\n",
       "      <th>3</th>\n",
       "      <td>Mon</td>\n",
       "      <td>Chrome</td>\n",
       "    </tr>\n",
       "    <tr>\n",
       "      <th>4</th>\n",
       "      <td>Tue</td>\n",
       "      <td>Firefox</td>\n",
       "    </tr>\n",
       "    <tr>\n",
       "      <th>5</th>\n",
       "      <td>Wed</td>\n",
       "      <td>Chrome</td>\n",
       "    </tr>\n",
       "  </tbody>\n",
       "</table>\n",
       "</div>"
      ],
      "text/plain": [
       "          Day  Browser\n",
       "Customer              \n",
       "1         Mon   Chrome\n",
       "2         Wed    Other\n",
       "3         Mon   Chrome\n",
       "4         Tue  Firefox\n",
       "5         Wed   Chrome"
      ]
     },
     "execution_count": 15,
     "metadata": {},
     "output_type": "execute_result"
    }
   ],
   "source": [
    "transactions_table[['Day', 'Browser']].head()"
   ]
  },
  {
   "cell_type": "markdown",
   "metadata": {},
   "source": [
    "## Filter specific rows from a DataFrame"
   ]
  },
  {
   "cell_type": "code",
   "execution_count": 16,
   "metadata": {},
   "outputs": [],
   "source": [
    "s_d = transactions_table[transactions_table['Day'] == 'Mon']"
   ]
  },
  {
   "cell_type": "code",
   "execution_count": 17,
   "metadata": {},
   "outputs": [
    {
     "data": {
      "text/html": [
       "<div>\n",
       "<style scoped>\n",
       "    .dataframe tbody tr th:only-of-type {\n",
       "        vertical-align: middle;\n",
       "    }\n",
       "\n",
       "    .dataframe tbody tr th {\n",
       "        vertical-align: top;\n",
       "    }\n",
       "\n",
       "    .dataframe thead th {\n",
       "        text-align: right;\n",
       "    }\n",
       "</style>\n",
       "<table border=\"1\" class=\"dataframe\">\n",
       "  <thead>\n",
       "    <tr style=\"text-align: right;\">\n",
       "      <th></th>\n",
       "      <th>Day</th>\n",
       "      <th>Browser</th>\n",
       "      <th>Time (min)</th>\n",
       "      <th>Pages Viewed</th>\n",
       "      <th>Amount Spent ($)</th>\n",
       "    </tr>\n",
       "    <tr>\n",
       "      <th>Customer</th>\n",
       "      <th></th>\n",
       "      <th></th>\n",
       "      <th></th>\n",
       "      <th></th>\n",
       "      <th></th>\n",
       "    </tr>\n",
       "  </thead>\n",
       "  <tbody>\n",
       "    <tr>\n",
       "      <th>1</th>\n",
       "      <td>Mon</td>\n",
       "      <td>Chrome</td>\n",
       "      <td>12.0</td>\n",
       "      <td>4</td>\n",
       "      <td>54.52</td>\n",
       "    </tr>\n",
       "    <tr>\n",
       "      <th>3</th>\n",
       "      <td>Mon</td>\n",
       "      <td>Chrome</td>\n",
       "      <td>8.5</td>\n",
       "      <td>4</td>\n",
       "      <td>26.68</td>\n",
       "    </tr>\n",
       "    <tr>\n",
       "      <th>14</th>\n",
       "      <td>Mon</td>\n",
       "      <td>Firefox</td>\n",
       "      <td>24.4</td>\n",
       "      <td>10</td>\n",
       "      <td>158.51</td>\n",
       "    </tr>\n",
       "    <tr>\n",
       "      <th>18</th>\n",
       "      <td>Mon</td>\n",
       "      <td>Chrome</td>\n",
       "      <td>14.0</td>\n",
       "      <td>7</td>\n",
       "      <td>126.40</td>\n",
       "    </tr>\n",
       "    <tr>\n",
       "      <th>30</th>\n",
       "      <td>Mon</td>\n",
       "      <td>Other</td>\n",
       "      <td>11.8</td>\n",
       "      <td>9</td>\n",
       "      <td>120.25</td>\n",
       "    </tr>\n",
       "    <tr>\n",
       "      <th>36</th>\n",
       "      <td>Mon</td>\n",
       "      <td>Firefox</td>\n",
       "      <td>16.5</td>\n",
       "      <td>5</td>\n",
       "      <td>59.99</td>\n",
       "    </tr>\n",
       "    <tr>\n",
       "      <th>44</th>\n",
       "      <td>Mon</td>\n",
       "      <td>Chrome</td>\n",
       "      <td>13.3</td>\n",
       "      <td>7</td>\n",
       "      <td>110.65</td>\n",
       "    </tr>\n",
       "    <tr>\n",
       "      <th>45</th>\n",
       "      <td>Mon</td>\n",
       "      <td>Chrome</td>\n",
       "      <td>30.1</td>\n",
       "      <td>6</td>\n",
       "      <td>104.23</td>\n",
       "    </tr>\n",
       "    <tr>\n",
       "      <th>49</th>\n",
       "      <td>Mon</td>\n",
       "      <td>Other</td>\n",
       "      <td>7.3</td>\n",
       "      <td>6</td>\n",
       "      <td>52.15</td>\n",
       "    </tr>\n",
       "  </tbody>\n",
       "</table>\n",
       "</div>"
      ],
      "text/plain": [
       "          Day  Browser  Time (min)  Pages Viewed  Amount Spent ($)\n",
       "Customer                                                          \n",
       "1         Mon   Chrome        12.0             4             54.52\n",
       "3         Mon   Chrome         8.5             4             26.68\n",
       "14        Mon  Firefox        24.4            10            158.51\n",
       "18        Mon   Chrome        14.0             7            126.40\n",
       "30        Mon    Other        11.8             9            120.25\n",
       "36        Mon  Firefox        16.5             5             59.99\n",
       "44        Mon   Chrome        13.3             7            110.65\n",
       "45        Mon   Chrome        30.1             6            104.23\n",
       "49        Mon    Other         7.3             6             52.15"
      ]
     },
     "execution_count": 17,
     "metadata": {},
     "output_type": "execute_result"
    }
   ],
   "source": [
    "s_d"
   ]
  },
  {
   "cell_type": "code",
   "execution_count": 18,
   "metadata": {},
   "outputs": [],
   "source": [
    "s_d_1 = transactions_table[(transactions_table['Day'] == 'Mon') | (transactions_table['Day'] == 'Wed')]"
   ]
  },
  {
   "cell_type": "code",
   "execution_count": 19,
   "metadata": {},
   "outputs": [
    {
     "data": {
      "text/html": [
       "<div>\n",
       "<style scoped>\n",
       "    .dataframe tbody tr th:only-of-type {\n",
       "        vertical-align: middle;\n",
       "    }\n",
       "\n",
       "    .dataframe tbody tr th {\n",
       "        vertical-align: top;\n",
       "    }\n",
       "\n",
       "    .dataframe thead th {\n",
       "        text-align: right;\n",
       "    }\n",
       "</style>\n",
       "<table border=\"1\" class=\"dataframe\">\n",
       "  <thead>\n",
       "    <tr style=\"text-align: right;\">\n",
       "      <th></th>\n",
       "      <th>Day</th>\n",
       "      <th>Browser</th>\n",
       "      <th>Time (min)</th>\n",
       "      <th>Pages Viewed</th>\n",
       "      <th>Amount Spent ($)</th>\n",
       "    </tr>\n",
       "    <tr>\n",
       "      <th>Customer</th>\n",
       "      <th></th>\n",
       "      <th></th>\n",
       "      <th></th>\n",
       "      <th></th>\n",
       "      <th></th>\n",
       "    </tr>\n",
       "  </thead>\n",
       "  <tbody>\n",
       "    <tr>\n",
       "      <th>1</th>\n",
       "      <td>Mon</td>\n",
       "      <td>Chrome</td>\n",
       "      <td>12.0</td>\n",
       "      <td>4</td>\n",
       "      <td>54.52</td>\n",
       "    </tr>\n",
       "    <tr>\n",
       "      <th>2</th>\n",
       "      <td>Wed</td>\n",
       "      <td>Other</td>\n",
       "      <td>19.5</td>\n",
       "      <td>6</td>\n",
       "      <td>94.90</td>\n",
       "    </tr>\n",
       "    <tr>\n",
       "      <th>3</th>\n",
       "      <td>Mon</td>\n",
       "      <td>Chrome</td>\n",
       "      <td>8.5</td>\n",
       "      <td>4</td>\n",
       "      <td>26.68</td>\n",
       "    </tr>\n",
       "    <tr>\n",
       "      <th>5</th>\n",
       "      <td>Wed</td>\n",
       "      <td>Chrome</td>\n",
       "      <td>11.3</td>\n",
       "      <td>4</td>\n",
       "      <td>66.27</td>\n",
       "    </tr>\n",
       "    <tr>\n",
       "      <th>9</th>\n",
       "      <td>Wed</td>\n",
       "      <td>Firefox</td>\n",
       "      <td>12.7</td>\n",
       "      <td>3</td>\n",
       "      <td>70.94</td>\n",
       "    </tr>\n",
       "    <tr>\n",
       "      <th>14</th>\n",
       "      <td>Mon</td>\n",
       "      <td>Firefox</td>\n",
       "      <td>24.4</td>\n",
       "      <td>10</td>\n",
       "      <td>158.51</td>\n",
       "    </tr>\n",
       "    <tr>\n",
       "      <th>18</th>\n",
       "      <td>Mon</td>\n",
       "      <td>Chrome</td>\n",
       "      <td>14.0</td>\n",
       "      <td>7</td>\n",
       "      <td>126.40</td>\n",
       "    </tr>\n",
       "    <tr>\n",
       "      <th>20</th>\n",
       "      <td>Wed</td>\n",
       "      <td>Chrome</td>\n",
       "      <td>15.1</td>\n",
       "      <td>5</td>\n",
       "      <td>32.69</td>\n",
       "    </tr>\n",
       "    <tr>\n",
       "      <th>26</th>\n",
       "      <td>Wed</td>\n",
       "      <td>Chrome</td>\n",
       "      <td>11.0</td>\n",
       "      <td>2</td>\n",
       "      <td>40.54</td>\n",
       "    </tr>\n",
       "    <tr>\n",
       "      <th>30</th>\n",
       "      <td>Mon</td>\n",
       "      <td>Other</td>\n",
       "      <td>11.8</td>\n",
       "      <td>9</td>\n",
       "      <td>120.25</td>\n",
       "    </tr>\n",
       "    <tr>\n",
       "      <th>36</th>\n",
       "      <td>Mon</td>\n",
       "      <td>Firefox</td>\n",
       "      <td>16.5</td>\n",
       "      <td>5</td>\n",
       "      <td>59.99</td>\n",
       "    </tr>\n",
       "    <tr>\n",
       "      <th>40</th>\n",
       "      <td>Wed</td>\n",
       "      <td>Chrome</td>\n",
       "      <td>5.0</td>\n",
       "      <td>5</td>\n",
       "      <td>36.48</td>\n",
       "    </tr>\n",
       "    <tr>\n",
       "      <th>44</th>\n",
       "      <td>Mon</td>\n",
       "      <td>Chrome</td>\n",
       "      <td>13.3</td>\n",
       "      <td>7</td>\n",
       "      <td>110.65</td>\n",
       "    </tr>\n",
       "    <tr>\n",
       "      <th>45</th>\n",
       "      <td>Mon</td>\n",
       "      <td>Chrome</td>\n",
       "      <td>30.1</td>\n",
       "      <td>6</td>\n",
       "      <td>104.23</td>\n",
       "    </tr>\n",
       "    <tr>\n",
       "      <th>49</th>\n",
       "      <td>Mon</td>\n",
       "      <td>Other</td>\n",
       "      <td>7.3</td>\n",
       "      <td>6</td>\n",
       "      <td>52.15</td>\n",
       "    </tr>\n",
       "  </tbody>\n",
       "</table>\n",
       "</div>"
      ],
      "text/plain": [
       "          Day  Browser  Time (min)  Pages Viewed  Amount Spent ($)\n",
       "Customer                                                          \n",
       "1         Mon   Chrome        12.0             4             54.52\n",
       "2         Wed    Other        19.5             6             94.90\n",
       "3         Mon   Chrome         8.5             4             26.68\n",
       "5         Wed   Chrome        11.3             4             66.27\n",
       "9         Wed  Firefox        12.7             3             70.94\n",
       "14        Mon  Firefox        24.4            10            158.51\n",
       "18        Mon   Chrome        14.0             7            126.40\n",
       "20        Wed   Chrome        15.1             5             32.69\n",
       "26        Wed   Chrome        11.0             2             40.54\n",
       "30        Mon    Other        11.8             9            120.25\n",
       "36        Mon  Firefox        16.5             5             59.99\n",
       "40        Wed   Chrome         5.0             5             36.48\n",
       "44        Mon   Chrome        13.3             7            110.65\n",
       "45        Mon   Chrome        30.1             6            104.23\n",
       "49        Mon    Other         7.3             6             52.15"
      ]
     },
     "execution_count": 19,
     "metadata": {},
     "output_type": "execute_result"
    }
   ],
   "source": [
    "s_d_1"
   ]
  },
  {
   "cell_type": "markdown",
   "metadata": {},
   "source": [
    "## Select specific rows and columns"
   ]
  },
  {
   "cell_type": "code",
   "execution_count": 20,
   "metadata": {},
   "outputs": [
    {
     "data": {
      "text/plain": [
       "Customer\n",
       "1      Chrome\n",
       "3      Chrome\n",
       "14    Firefox\n",
       "18     Chrome\n",
       "30      Other\n",
       "36    Firefox\n",
       "44     Chrome\n",
       "45     Chrome\n",
       "49      Other\n",
       "Name: Browser, dtype: object"
      ]
     },
     "execution_count": 20,
     "metadata": {},
     "output_type": "execute_result"
    }
   ],
   "source": [
    "s_d_2 = transactions_table.loc[transactions_table['Day'] == 'Mon', 'Browser']\n",
    "\n",
    "s_d_2"
   ]
  },
  {
   "cell_type": "markdown",
   "metadata": {},
   "source": [
    "## Create new columns from existing columns"
   ]
  },
  {
   "cell_type": "code",
   "execution_count": 21,
   "metadata": {},
   "outputs": [
    {
     "data": {
      "text/html": [
       "<div>\n",
       "<style scoped>\n",
       "    .dataframe tbody tr th:only-of-type {\n",
       "        vertical-align: middle;\n",
       "    }\n",
       "\n",
       "    .dataframe tbody tr th {\n",
       "        vertical-align: top;\n",
       "    }\n",
       "\n",
       "    .dataframe thead th {\n",
       "        text-align: right;\n",
       "    }\n",
       "</style>\n",
       "<table border=\"1\" class=\"dataframe\">\n",
       "  <thead>\n",
       "    <tr style=\"text-align: right;\">\n",
       "      <th></th>\n",
       "      <th>Day</th>\n",
       "      <th>Browser</th>\n",
       "      <th>Time (min)</th>\n",
       "      <th>Pages Viewed</th>\n",
       "      <th>Amount Spent ($)</th>\n",
       "    </tr>\n",
       "    <tr>\n",
       "      <th>Customer</th>\n",
       "      <th></th>\n",
       "      <th></th>\n",
       "      <th></th>\n",
       "      <th></th>\n",
       "      <th></th>\n",
       "    </tr>\n",
       "  </thead>\n",
       "  <tbody>\n",
       "    <tr>\n",
       "      <th>1</th>\n",
       "      <td>Mon</td>\n",
       "      <td>Chrome</td>\n",
       "      <td>12.0</td>\n",
       "      <td>4</td>\n",
       "      <td>54.52</td>\n",
       "    </tr>\n",
       "    <tr>\n",
       "      <th>2</th>\n",
       "      <td>Wed</td>\n",
       "      <td>Other</td>\n",
       "      <td>19.5</td>\n",
       "      <td>6</td>\n",
       "      <td>94.90</td>\n",
       "    </tr>\n",
       "    <tr>\n",
       "      <th>3</th>\n",
       "      <td>Mon</td>\n",
       "      <td>Chrome</td>\n",
       "      <td>8.5</td>\n",
       "      <td>4</td>\n",
       "      <td>26.68</td>\n",
       "    </tr>\n",
       "    <tr>\n",
       "      <th>4</th>\n",
       "      <td>Tue</td>\n",
       "      <td>Firefox</td>\n",
       "      <td>11.4</td>\n",
       "      <td>2</td>\n",
       "      <td>44.73</td>\n",
       "    </tr>\n",
       "    <tr>\n",
       "      <th>5</th>\n",
       "      <td>Wed</td>\n",
       "      <td>Chrome</td>\n",
       "      <td>11.3</td>\n",
       "      <td>4</td>\n",
       "      <td>66.27</td>\n",
       "    </tr>\n",
       "  </tbody>\n",
       "</table>\n",
       "</div>"
      ],
      "text/plain": [
       "          Day  Browser  Time (min)  Pages Viewed  Amount Spent ($)\n",
       "Customer                                                          \n",
       "1         Mon   Chrome        12.0             4             54.52\n",
       "2         Wed    Other        19.5             6             94.90\n",
       "3         Mon   Chrome         8.5             4             26.68\n",
       "4         Tue  Firefox        11.4             2             44.73\n",
       "5         Wed   Chrome        11.3             4             66.27"
      ]
     },
     "execution_count": 21,
     "metadata": {},
     "output_type": "execute_result"
    }
   ],
   "source": [
    "transactions_table.head()"
   ]
  },
  {
   "cell_type": "code",
   "execution_count": 22,
   "metadata": {},
   "outputs": [],
   "source": [
    "transactions_table['PV2'] = transactions_table['Pages Viewed'] + 1"
   ]
  },
  {
   "cell_type": "code",
   "execution_count": null,
   "metadata": {},
   "outputs": [],
   "source": []
  },
  {
   "cell_type": "markdown",
   "metadata": {},
   "source": [
    "# Matplotlib"
   ]
  },
  {
   "cell_type": "markdown",
   "metadata": {},
   "source": [
    "Matplotlib is a comprehensive library for creating static, animated, and interactive visualizations in Python."
   ]
  },
  {
   "cell_type": "markdown",
   "metadata": {},
   "source": [
    "matplotlib.pyplot is a collection of functions that make matplotlib work like MATLAB. Each pyplot function makes some change to a figure: e.g., creates a figure, creates a plotting area in a figure, plots some lines in a plotting area, decorates the plot with labels, etc."
   ]
  },
  {
   "cell_type": "markdown",
   "metadata": {},
   "source": [
    "In matplotlib.pyplot various states are preserved across function calls, so that it keeps track of things like the current figure and plotting area, and the plotting functions are directed to the current axes (please note that \"axes\" here and in most places in the documentation refers to the axes part of a figure and not the strict mathematical term for more than one axis)."
   ]
  },
  {
   "cell_type": "code",
   "execution_count": 70,
   "metadata": {},
   "outputs": [
    {
     "data": {
      "image/png": "[encoded data removed]",
      "text/plain": [
       "<Figure size 432x288 with 1 Axes>"
      ]
     },
     "metadata": {
      "needs_background": "light"
     },
     "output_type": "display_data"
    }
   ],
   "source": [
    "import matplotlib.pyplot as plt\n",
    "plt.plot([1, 2, 3, 4])\n",
    "plt.ylabel('some numbers')\n",
    "plt.show()"
   ]
  },
  {
   "cell_type": "markdown",
   "metadata": {},
   "source": [
    "You may be wondering why the x-axis ranges from 0-3 and the y-axis from 1-4. If you provide a single list or array to plot, matplotlib assumes it is a sequence of y values, and automatically generates the x values for you. Since python ranges start with 0, the default x vector has the same length as y but starts with 0. Hence the x data are [0, 1, 2, 3]."
   ]
  },
  {
   "cell_type": "markdown",
   "metadata": {},
   "source": [
    "plot is a versatile function, and will take an arbitrary number of arguments. For example, to plot x versus y, you can write:"
   ]
  },
  {
   "cell_type": "code",
   "execution_count": 86,
   "metadata": {},
   "outputs": [
    {
     "data": {
      "image/png": "[encoded data removed]",
      "text/plain": [
       "<Figure size 432x288 with 1 Axes>"
      ]
     },
     "metadata": {
      "needs_background": "light"
     },
     "output_type": "display_data"
    }
   ],
   "source": [
    "plt.plot([1, 2, 3, 4], [1, 4, 9, 16])\n",
    "\n",
    "plt.show()"
   ]
  },
  {
   "cell_type": "code",
   "execution_count": 85,
   "metadata": {},
   "outputs": [
    {
     "data": {
      "image/png": "[encoded data removed]",
      "text/plain": [
       "<Figure size 432x288 with 1 Axes>"
      ]
     },
     "metadata": {
      "needs_background": "light"
     },
     "output_type": "display_data"
    }
   ],
   "source": [
    "x = np.linspace(0, 4*np.pi, 1000)\n",
    "\n",
    "plt.plot(x, np.exp(-x), x, np.sin(x))\n",
    "plt.legend(('exp', 'sin'))\n",
    "\n",
    "plt.show()"
   ]
  },
  {
   "cell_type": "code",
   "execution_count": null,
   "metadata": {},
   "outputs": [],
   "source": []
  }
 ],
 "metadata": {
  "kernelspec": {
   "display_name": "Python 3 (ipykernel)",
   "language": "python",
   "name": "python3"
  },
  "language_info": {
   "codemirror_mode": {
    "name": "ipython",
    "version": 3
   },
   "file_extension": ".py",
   "mimetype": "text/x-python",
   "name": "python",
   "nbconvert_exporter": "python",
   "pygments_lexer": "ipython3",
   "version": "3.8.3"
  },
  "toc": {
   "base_numbering": 1,
   "nav_menu": {},
   "number_sections": true,
   "sideBar": true,
   "skip_h1_title": false,
   "title_cell": "Table of Contents",
   "title_sidebar": "Contents",
   "toc_cell": false,
   "toc_position": {},
   "toc_section_display": true,
   "toc_window_display": false
  }
 },
 "nbformat": 4,
 "nbformat_minor": 4
}
